{
  "nbformat": 4,
  "nbformat_minor": 0,
  "metadata": {
    "colab": {
      "provenance": [],
      "authorship_tag": "ABX9TyNU7CgRyLzsbuieSF0OH4ZI",
      "include_colab_link": true
    },
    "kernelspec": {
      "name": "python3",
      "display_name": "Python 3"
    },
    "language_info": {
      "name": "python"
    }
  },
  "cells": [
    {
      "cell_type": "markdown",
      "metadata": {
        "id": "view-in-github",
        "colab_type": "text"
      },
      "source": [
        "<a href=\"https://colab.research.google.com/github/EunikeChristabelle/BioPhyton-Bioinformatics/blob/main/2602065010_Eunike_Imelda_Christabelle_ASG_3.ipynb\" target=\"_parent\"><img src=\"https://colab.research.google.com/assets/colab-badge.svg\" alt=\"Open In Colab\"/></a>"
      ]
    },
    {
      "cell_type": "code",
      "execution_count": null,
      "metadata": {
        "colab": {
          "base_uri": "https://localhost:8080/"
        },
        "id": "LVZz1W05V8d1",
        "outputId": "39924d84-fcfd-4398-96cb-1176d5a8fc6d"
      },
      "outputs": [
        {
          "output_type": "stream",
          "name": "stdout",
          "text": [
            "Collecting biopython\n",
            "  Downloading biopython-1.83-cp310-cp310-manylinux_2_17_x86_64.manylinux2014_x86_64.whl (3.1 MB)\n",
            "\u001b[2K     \u001b[90m━━━━━━━━━━━━━━━━━━━━━━━━━━━━━━━━━━━━━━━━\u001b[0m \u001b[32m3.1/3.1 MB\u001b[0m \u001b[31m11.1 MB/s\u001b[0m eta \u001b[36m0:00:00\u001b[0m\n",
            "\u001b[?25hRequirement already satisfied: numpy in /usr/local/lib/python3.10/dist-packages (from biopython) (1.25.2)\n",
            "Installing collected packages: biopython\n",
            "Successfully installed biopython-1.83\n"
          ]
        }
      ],
      "source": [
        "!pip install biopython"
      ]
    },
    {
      "cell_type": "markdown",
      "source": [
        "## Protein Synthesis"
      ],
      "metadata": {
        "id": "eszJs2wvaEGP"
      }
    },
    {
      "cell_type": "code",
      "source": [
        "from Bio.Seq import Seq"
      ],
      "metadata": {
        "id": "XoUqKOI8WOLA"
      },
      "execution_count": null,
      "outputs": []
    },
    {
      "cell_type": "code",
      "source": [
        "dna_seq = Seq('ATGATCTCGTAA')"
      ],
      "metadata": {
        "id": "IUSN7Do1WXah"
      },
      "execution_count": null,
      "outputs": []
    },
    {
      "cell_type": "code",
      "source": [
        "len(dna_seq)"
      ],
      "metadata": {
        "colab": {
          "base_uri": "https://localhost:8080/"
        },
        "id": "wWp8l5Q-WXdg",
        "outputId": "3c67d065-efd4-4c87-cc29-30abf5fbc2b4"
      },
      "execution_count": null,
      "outputs": [
        {
          "output_type": "execute_result",
          "data": {
            "text/plain": [
              "12"
            ]
          },
          "metadata": {},
          "execution_count": 5
        }
      ]
    },
    {
      "cell_type": "code",
      "source": [
        "dna_seq"
      ],
      "metadata": {
        "colab": {
          "base_uri": "https://localhost:8080/"
        },
        "id": "SgZ-9l60WXgd",
        "outputId": "9853d2ca-4a14-4a5a-91d3-4d9ee0af3bb3"
      },
      "execution_count": null,
      "outputs": [
        {
          "output_type": "execute_result",
          "data": {
            "text/plain": [
              "Seq('ATGATCTCGTAA')"
            ]
          },
          "metadata": {},
          "execution_count": 6
        }
      ]
    },
    {
      "cell_type": "code",
      "source": [
        "dna_seq.complement()"
      ],
      "metadata": {
        "colab": {
          "base_uri": "https://localhost:8080/"
        },
        "id": "QwcVvo5nWXjH",
        "outputId": "e3a7ff1a-4734-4811-f294-ffcb199738ea"
      },
      "execution_count": null,
      "outputs": [
        {
          "output_type": "execute_result",
          "data": {
            "text/plain": [
              "Seq('TACTAGAGCATT')"
            ]
          },
          "metadata": {},
          "execution_count": 7
        }
      ]
    },
    {
      "cell_type": "code",
      "source": [
        "dna_seq.reverse_complement()"
      ],
      "metadata": {
        "colab": {
          "base_uri": "https://localhost:8080/"
        },
        "id": "ONgi2LlIWXmU",
        "outputId": "9cfbb6b6-32e4-4683-e506-f390e64d2961"
      },
      "execution_count": null,
      "outputs": [
        {
          "output_type": "execute_result",
          "data": {
            "text/plain": [
              "Seq('TTACGAGATCAT')"
            ]
          },
          "metadata": {},
          "execution_count": 8
        }
      ]
    },
    {
      "cell_type": "code",
      "source": [
        "dna_seq.complement()[::-1]"
      ],
      "metadata": {
        "colab": {
          "base_uri": "https://localhost:8080/"
        },
        "id": "Wjp5ZF6HWXpp",
        "outputId": "8ad1e359-458e-4282-945e-899ad2ce10a7"
      },
      "execution_count": null,
      "outputs": [
        {
          "output_type": "execute_result",
          "data": {
            "text/plain": [
              "Seq('TTACGAGATCAT')"
            ]
          },
          "metadata": {},
          "execution_count": 9
        }
      ]
    },
    {
      "cell_type": "code",
      "source": [
        "dna_seq"
      ],
      "metadata": {
        "colab": {
          "base_uri": "https://localhost:8080/"
        },
        "id": "SAyqH2y8Wx84",
        "outputId": "18cbbbf9-7711-4d46-8c27-b2c91a17d574"
      },
      "execution_count": null,
      "outputs": [
        {
          "output_type": "execute_result",
          "data": {
            "text/plain": [
              "Seq('ATGATCTCGTAA')"
            ]
          },
          "metadata": {},
          "execution_count": 10
        }
      ]
    },
    {
      "cell_type": "code",
      "source": [
        "#Transcription : DNA to mRNA\n",
        "dna_seq.transcribe()"
      ],
      "metadata": {
        "colab": {
          "base_uri": "https://localhost:8080/"
        },
        "id": "Dm7Y7bRPWx_r",
        "outputId": "26d1dc23-6590-44ea-94d3-a04d4d4a7468"
      },
      "execution_count": null,
      "outputs": [
        {
          "output_type": "execute_result",
          "data": {
            "text/plain": [
              "Seq('AUGAUCUCGUAA')"
            ]
          },
          "metadata": {},
          "execution_count": 11
        }
      ]
    },
    {
      "cell_type": "code",
      "source": [
        "mRNA = dna_seq.transcribe()"
      ],
      "metadata": {
        "id": "4OntRgRvWyCp"
      },
      "execution_count": null,
      "outputs": []
    },
    {
      "cell_type": "code",
      "source": [
        "#Translation : mRNA to protein Method 1\n",
        "mRNA.translate()"
      ],
      "metadata": {
        "colab": {
          "base_uri": "https://localhost:8080/"
        },
        "id": "xndG6HqMWyFn",
        "outputId": "a3514a93-2bfa-40d0-8359-7a1aaf7f2ba4"
      },
      "execution_count": null,
      "outputs": [
        {
          "output_type": "execute_result",
          "data": {
            "text/plain": [
              "Seq('MIS*')"
            ]
          },
          "metadata": {},
          "execution_count": 13
        }
      ]
    },
    {
      "cell_type": "code",
      "source": [
        "#Translation : mRNA to protein Method 2\n",
        "dna_seq.translate()"
      ],
      "metadata": {
        "colab": {
          "base_uri": "https://localhost:8080/"
        },
        "id": "91wsPqoRWyIk",
        "outputId": "5473b2f0-b898-4dc2-9b47-ac7f8969a05a"
      },
      "execution_count": null,
      "outputs": [
        {
          "output_type": "execute_result",
          "data": {
            "text/plain": [
              "Seq('MIS*')"
            ]
          },
          "metadata": {},
          "execution_count": 14
        }
      ]
    },
    {
      "cell_type": "code",
      "source": [
        "mRNA.translate(stop_symbol=\"@\")"
      ],
      "metadata": {
        "colab": {
          "base_uri": "https://localhost:8080/"
        },
        "id": "WlHM-tucWyLf",
        "outputId": "4a7c78e9-8ae5-4893-8b92-0a8d76aa8bab"
      },
      "execution_count": null,
      "outputs": [
        {
          "output_type": "execute_result",
          "data": {
            "text/plain": [
              "Seq('MIS@')"
            ]
          },
          "metadata": {},
          "execution_count": 15
        }
      ]
    },
    {
      "cell_type": "code",
      "source": [
        "mRNA.back_transcribe()"
      ],
      "metadata": {
        "colab": {
          "base_uri": "https://localhost:8080/"
        },
        "id": "H5untz8lWyOI",
        "outputId": "da7a7c2f-f09f-488c-ecd1-6abbd6e8bb3b"
      },
      "execution_count": null,
      "outputs": [
        {
          "output_type": "execute_result",
          "data": {
            "text/plain": [
              "Seq('ATGATCTCGTAA')"
            ]
          },
          "metadata": {},
          "execution_count": 16
        }
      ]
    },
    {
      "cell_type": "code",
      "source": [
        "mRNA.back_transcribe() == dna_seq"
      ],
      "metadata": {
        "colab": {
          "base_uri": "https://localhost:8080/"
        },
        "id": "Y6BGEGU_YCJp",
        "outputId": "18d85a9f-b768-4670-f0cf-831db061647a"
      },
      "execution_count": null,
      "outputs": [
        {
          "output_type": "execute_result",
          "data": {
            "text/plain": [
              "True"
            ]
          },
          "metadata": {},
          "execution_count": 17
        }
      ]
    },
    {
      "cell_type": "code",
      "source": [
        "#join the steps\n",
        "dna_seq.transcribe().translate()"
      ],
      "metadata": {
        "colab": {
          "base_uri": "https://localhost:8080/"
        },
        "id": "lOipoF4EYCNM",
        "outputId": "51a8bbbb-0c3c-4fde-986d-f34f76981586"
      },
      "execution_count": null,
      "outputs": [
        {
          "output_type": "execute_result",
          "data": {
            "text/plain": [
              "Seq('MIS*')"
            ]
          },
          "metadata": {},
          "execution_count": 18
        }
      ]
    },
    {
      "cell_type": "code",
      "source": [
        "from Bio.SeqUtils import seq3,seq1"
      ],
      "metadata": {
        "id": "KmQW0NDQYCQf"
      },
      "execution_count": null,
      "outputs": []
    },
    {
      "cell_type": "code",
      "source": [
        "aa = dna_seq.translate\n",
        "aa"
      ],
      "metadata": {
        "colab": {
          "base_uri": "https://localhost:8080/",
          "height": 186
        },
        "id": "ovH4QPVjYCT7",
        "outputId": "987c2c5a-c038-4a91-d5d9-0c4a903f59ec"
      },
      "execution_count": null,
      "outputs": [
        {
          "output_type": "execute_result",
          "data": {
            "text/plain": [
              "<bound method _SeqAbstractBaseClass.translate of Seq('ATGATCTCGTAA')>"
            ],
            "text/html": [
              "<div style=\"max-width:800px; border: 1px solid var(--colab-border-color);\"><style>\n",
              "      pre.function-repr-contents {\n",
              "        overflow-x: auto;\n",
              "        padding: 8px 12px;\n",
              "        max-height: 500px;\n",
              "      }\n",
              "\n",
              "      pre.function-repr-contents.function-repr-contents-collapsed {\n",
              "        cursor: pointer;\n",
              "        max-height: 100px;\n",
              "      }\n",
              "    </style>\n",
              "    <pre style=\"white-space: initial; background:\n",
              "         var(--colab-secondary-surface-color); padding: 8px 12px;\n",
              "         border-bottom: 1px solid var(--colab-border-color);\"><b>Bio.Seq._SeqAbstractBaseClass.translate</b><br/>def translate(table=&#x27;Standard&#x27;, stop_symbol=&#x27;*&#x27;, to_stop=False, cds=False, gap=&#x27;-&#x27;)</pre><pre class=\"function-repr-contents function-repr-contents-collapsed\" style=\"\"><a class=\"filepath\" style=\"display:none\" href=\"#\">/usr/local/lib/python3.10/dist-packages/Bio/Seq.py</a>Turn a nucleotide sequence into a protein sequence by creating a new sequence object.\n",
              "\n",
              "This method will translate DNA or RNA sequences. It should not\n",
              "be used on protein sequences as any result will be biologically\n",
              "meaningless.\n",
              "\n",
              "Arguments:\n",
              " - table - Which codon table to use?  This can be either a name\n",
              "   (string), an NCBI identifier (integer), or a CodonTable\n",
              "   object (useful for non-standard genetic codes).  This\n",
              "   defaults to the &quot;Standard&quot; table.\n",
              " - stop_symbol - Single character string, what to use for\n",
              "   terminators.  This defaults to the asterisk, &quot;*&quot;.\n",
              " - to_stop - Boolean, defaults to False meaning do a full\n",
              "   translation continuing on past any stop codons (translated as the\n",
              "   specified stop_symbol).  If True, translation is terminated at\n",
              "   the first in frame stop codon (and the stop_symbol is not\n",
              "   appended to the returned protein sequence).\n",
              " - cds - Boolean, indicates this is a complete CDS.  If True,\n",
              "   this checks the sequence starts with a valid alternative start\n",
              "   codon (which will be translated as methionine, M), that the\n",
              "   sequence length is a multiple of three, and that there is a\n",
              "   single in frame stop codon at the end (this will be excluded\n",
              "   from the protein sequence, regardless of the to_stop option).\n",
              "   If these tests fail, an exception is raised.\n",
              " - gap - Single character string to denote symbol used for gaps.\n",
              "   Defaults to the minus sign.\n",
              "\n",
              "A ``Seq`` object is returned if ``translate`` is called on a ``Seq``\n",
              "object; a ``MutableSeq`` object is returned if ``translate`` is called\n",
              "pn a ``MutableSeq`` object.\n",
              "\n",
              "e.g. Using the standard table:\n",
              "\n",
              "&gt;&gt;&gt; coding_dna = Seq(&quot;GTGGCCATTGTAATGGGCCGCTGAAAGGGTGCCCGATAG&quot;)\n",
              "&gt;&gt;&gt; coding_dna.translate()\n",
              "Seq(&#x27;VAIVMGR*KGAR*&#x27;)\n",
              "&gt;&gt;&gt; coding_dna.translate(stop_symbol=&quot;@&quot;)\n",
              "Seq(&#x27;VAIVMGR@KGAR@&#x27;)\n",
              "&gt;&gt;&gt; coding_dna.translate(to_stop=True)\n",
              "Seq(&#x27;VAIVMGR&#x27;)\n",
              "\n",
              "Now using NCBI table 2, where TGA is not a stop codon:\n",
              "\n",
              "&gt;&gt;&gt; coding_dna.translate(table=2)\n",
              "Seq(&#x27;VAIVMGRWKGAR*&#x27;)\n",
              "&gt;&gt;&gt; coding_dna.translate(table=2, to_stop=True)\n",
              "Seq(&#x27;VAIVMGRWKGAR&#x27;)\n",
              "\n",
              "In fact, GTG is an alternative start codon under NCBI table 2, meaning\n",
              "this sequence could be a complete CDS:\n",
              "\n",
              "&gt;&gt;&gt; coding_dna.translate(table=2, cds=True)\n",
              "Seq(&#x27;MAIVMGRWKGAR&#x27;)\n",
              "\n",
              "It isn&#x27;t a valid CDS under NCBI table 1, due to both the start codon\n",
              "and also the in frame stop codons:\n",
              "\n",
              "&gt;&gt;&gt; coding_dna.translate(table=1, cds=True)\n",
              "Traceback (most recent call last):\n",
              "    ...\n",
              "Bio.Data.CodonTable.TranslationError: First codon &#x27;GTG&#x27; is not a start codon\n",
              "\n",
              "If the sequence has no in-frame stop codon, then the to_stop argument\n",
              "has no effect:\n",
              "\n",
              "&gt;&gt;&gt; coding_dna2 = Seq(&quot;TTGGCCATTGTAATGGGCCGC&quot;)\n",
              "&gt;&gt;&gt; coding_dna2.translate()\n",
              "Seq(&#x27;LAIVMGR&#x27;)\n",
              "&gt;&gt;&gt; coding_dna2.translate(to_stop=True)\n",
              "Seq(&#x27;LAIVMGR&#x27;)\n",
              "\n",
              "NOTE - Ambiguous codons like &quot;TAN&quot; or &quot;NNN&quot; could be an amino acid\n",
              "or a stop codon.  These are translated as &quot;X&quot;.  Any invalid codon\n",
              "(e.g. &quot;TA?&quot; or &quot;T-A&quot;) will throw a TranslationError.\n",
              "\n",
              "NOTE - This does NOT behave like the python string&#x27;s translate\n",
              "method.  For that use str(my_seq).translate(...) instead</pre>\n",
              "      <script>\n",
              "      if (google.colab.kernel.accessAllowed && google.colab.files && google.colab.files.view) {\n",
              "        for (const element of document.querySelectorAll('.filepath')) {\n",
              "          element.style.display = 'block'\n",
              "          element.onclick = (event) => {\n",
              "            event.preventDefault();\n",
              "            event.stopPropagation();\n",
              "            google.colab.files.view(element.textContent, 1524);\n",
              "          };\n",
              "        }\n",
              "      }\n",
              "      for (const element of document.querySelectorAll('.function-repr-contents')) {\n",
              "        element.onclick = (event) => {\n",
              "          event.preventDefault();\n",
              "          event.stopPropagation();\n",
              "          element.classList.toggle('function-repr-contents-collapsed');\n",
              "        };\n",
              "      }\n",
              "      </script>\n",
              "      </div>"
            ]
          },
          "metadata": {},
          "execution_count": 20
        }
      ]
    },
    {
      "cell_type": "code",
      "source": [
        "seq3(str(aa))"
      ],
      "metadata": {
        "id": "EAQhe5D0YSqJ",
        "colab": {
          "base_uri": "https://localhost:8080/",
          "height": 53
        },
        "outputId": "4e7b2350-9fdc-42bb-a891-793ebe9c63fd"
      },
      "execution_count": null,
      "outputs": [
        {
          "output_type": "execute_result",
          "data": {
            "text/plain": [
              "'XaaXaaXaaXaaXaaXaaXaaXaaXaaXaaXaaXaaXaaXaaXaaSerXaaXaaAlaXaaXaaXaaXaaXaaXaaXaaAsxXaaXaaXaaCysXaaXaaXaaXaaXaaXaaXaaXaaXaaXaaXaaXaaXaaXaaXaaXaaXaaXaaSerXaaXaaXaaXaaAlaThrGlyAlaThrCysThrCysGlyThrAlaAlaXaaXaaXaa'"
            ],
            "application/vnd.google.colaboratory.intrinsic+json": {
              "type": "string"
            }
          },
          "metadata": {},
          "execution_count": 25
        }
      ]
    },
    {
      "cell_type": "code",
      "source": [
        "seq1('MeIleSerTer')"
      ],
      "metadata": {
        "id": "JVcVNOpoYTg4",
        "colab": {
          "base_uri": "https://localhost:8080/",
          "height": 36
        },
        "outputId": "13220d67-2781-4309-b4c8-6f0d423a359d"
      },
      "execution_count": null,
      "outputs": [
        {
          "output_type": "execute_result",
          "data": {
            "text/plain": [
              "'XXX'"
            ],
            "application/vnd.google.colaboratory.intrinsic+json": {
              "type": "string"
            }
          },
          "metadata": {},
          "execution_count": 26
        }
      ]
    },
    {
      "cell_type": "markdown",
      "source": [
        "### Amino Acids Codon Table"
      ],
      "metadata": {
        "id": "555pOJoaYpVJ"
      }
    },
    {
      "cell_type": "code",
      "source": [
        "from Bio.Data import CodonTable"
      ],
      "metadata": {
        "id": "P4JTOYeYYsGO"
      },
      "execution_count": null,
      "outputs": []
    },
    {
      "cell_type": "code",
      "source": [
        "dir(CodonTable)"
      ],
      "metadata": {
        "colab": {
          "base_uri": "https://localhost:8080/"
        },
        "id": "t1HmWY5DYu_5",
        "outputId": "6fbb5983-8de6-48c9-8738-3a3e27a07da7"
      },
      "execution_count": null,
      "outputs": [
        {
          "output_type": "execute_result",
          "data": {
            "text/plain": [
              "['AmbiguousCodonTable',\n",
              " 'AmbiguousForwardTable',\n",
              " 'CodonTable',\n",
              " 'Dict',\n",
              " 'IUPACData',\n",
              " 'List',\n",
              " 'NCBICodonTable',\n",
              " 'NCBICodonTableDNA',\n",
              " 'NCBICodonTableRNA',\n",
              " 'Optional',\n",
              " 'TranslationError',\n",
              " '__builtins__',\n",
              " '__cached__',\n",
              " '__doc__',\n",
              " '__file__',\n",
              " '__loader__',\n",
              " '__name__',\n",
              " '__package__',\n",
              " '__spec__',\n",
              " 'ambiguous_dna_by_id',\n",
              " 'ambiguous_dna_by_name',\n",
              " 'ambiguous_generic_by_id',\n",
              " 'ambiguous_generic_by_name',\n",
              " 'ambiguous_rna_by_id',\n",
              " 'ambiguous_rna_by_name',\n",
              " 'generic_by_id',\n",
              " 'generic_by_name',\n",
              " 'list_ambiguous_codons',\n",
              " 'list_possible_proteins',\n",
              " 'make_back_table',\n",
              " 'register_ncbi_table',\n",
              " 'standard_dna_table',\n",
              " 'standard_rna_table',\n",
              " 'unambiguous_dna_by_id',\n",
              " 'unambiguous_dna_by_name',\n",
              " 'unambiguous_rna_by_id',\n",
              " 'unambiguous_rna_by_name']"
            ]
          },
          "metadata": {},
          "execution_count": 78
        }
      ]
    },
    {
      "cell_type": "code",
      "source": [
        "print(CodonTable.unambiguous_dna_by_name['Standard'])"
      ],
      "metadata": {
        "colab": {
          "base_uri": "https://localhost:8080/"
        },
        "id": "afIEbSMYYvGA",
        "outputId": "ecfdc6f1-5762-44e7-bf23-76f0acb8515b"
      },
      "execution_count": null,
      "outputs": [
        {
          "output_type": "stream",
          "name": "stdout",
          "text": [
            "Table 1 Standard, SGC0\n",
            "\n",
            "  |  T      |  C      |  A      |  G      |\n",
            "--+---------+---------+---------+---------+--\n",
            "T | TTT F   | TCT S   | TAT Y   | TGT C   | T\n",
            "T | TTC F   | TCC S   | TAC Y   | TGC C   | C\n",
            "T | TTA L   | TCA S   | TAA Stop| TGA Stop| A\n",
            "T | TTG L(s)| TCG S   | TAG Stop| TGG W   | G\n",
            "--+---------+---------+---------+---------+--\n",
            "C | CTT L   | CCT P   | CAT H   | CGT R   | T\n",
            "C | CTC L   | CCC P   | CAC H   | CGC R   | C\n",
            "C | CTA L   | CCA P   | CAA Q   | CGA R   | A\n",
            "C | CTG L(s)| CCG P   | CAG Q   | CGG R   | G\n",
            "--+---------+---------+---------+---------+--\n",
            "A | ATT I   | ACT T   | AAT N   | AGT S   | T\n",
            "A | ATC I   | ACC T   | AAC N   | AGC S   | C\n",
            "A | ATA I   | ACA T   | AAA K   | AGA R   | A\n",
            "A | ATG M(s)| ACG T   | AAG K   | AGG R   | G\n",
            "--+---------+---------+---------+---------+--\n",
            "G | GTT V   | GCT A   | GAT D   | GGT G   | T\n",
            "G | GTC V   | GCC A   | GAC D   | GGC G   | C\n",
            "G | GTA V   | GCA A   | GAA E   | GGA G   | A\n",
            "G | GTG V   | GCG A   | GAG E   | GGG G   | G\n",
            "--+---------+---------+---------+---------+--\n"
          ]
        }
      ]
    },
    {
      "cell_type": "code",
      "source": [
        "print(CodonTable.unambiguous_rna_by_name['Standard'])"
      ],
      "metadata": {
        "colab": {
          "base_uri": "https://localhost:8080/"
        },
        "id": "2KmmE1NFYvJk",
        "outputId": "4aac8b41-4b17-4102-99bd-cf205f380376"
      },
      "execution_count": null,
      "outputs": [
        {
          "output_type": "stream",
          "name": "stdout",
          "text": [
            "Table 1 Standard, SGC0\n",
            "\n",
            "  |  U      |  C      |  A      |  G      |\n",
            "--+---------+---------+---------+---------+--\n",
            "U | UUU F   | UCU S   | UAU Y   | UGU C   | U\n",
            "U | UUC F   | UCC S   | UAC Y   | UGC C   | C\n",
            "U | UUA L   | UCA S   | UAA Stop| UGA Stop| A\n",
            "U | UUG L(s)| UCG S   | UAG Stop| UGG W   | G\n",
            "--+---------+---------+---------+---------+--\n",
            "C | CUU L   | CCU P   | CAU H   | CGU R   | U\n",
            "C | CUC L   | CCC P   | CAC H   | CGC R   | C\n",
            "C | CUA L   | CCA P   | CAA Q   | CGA R   | A\n",
            "C | CUG L(s)| CCG P   | CAG Q   | CGG R   | G\n",
            "--+---------+---------+---------+---------+--\n",
            "A | AUU I   | ACU T   | AAU N   | AGU S   | U\n",
            "A | AUC I   | ACC T   | AAC N   | AGC S   | C\n",
            "A | AUA I   | ACA T   | AAA K   | AGA R   | A\n",
            "A | AUG M(s)| ACG T   | AAG K   | AGG R   | G\n",
            "--+---------+---------+---------+---------+--\n",
            "G | GUU V   | GCU A   | GAU D   | GGU G   | U\n",
            "G | GUC V   | GCC A   | GAC D   | GGC G   | C\n",
            "G | GUA V   | GCA A   | GAA E   | GGA G   | A\n",
            "G | GUG V   | GCG A   | GAG E   | GGG G   | G\n",
            "--+---------+---------+---------+---------+--\n"
          ]
        }
      ]
    },
    {
      "cell_type": "markdown",
      "source": [
        "### 3D Structure of protein"
      ],
      "metadata": {
        "id": "9mFmpPSrXnFX"
      }
    },
    {
      "cell_type": "code",
      "source": [
        "import os\n",
        "from Bio.PDB.PDBParser import PDBParser\n",
        "\n",
        "parser = PDBParser()\n",
        "pdb_file = os.path.abspath(\"/content/6lu7.pdb\")"
      ],
      "metadata": {
        "id": "NaIu0HxLWyRt"
      },
      "execution_count": null,
      "outputs": []
    },
    {
      "cell_type": "code",
      "source": [
        "structure = parser.get_structure(\"6LU7\", pdb_file)"
      ],
      "metadata": {
        "colab": {
          "base_uri": "https://localhost:8080/"
        },
        "id": "T8x60shuckvM",
        "outputId": "88907afc-8f24-49ce-a86f-2c641c18d3c2"
      },
      "execution_count": null,
      "outputs": [
        {
          "output_type": "stream",
          "name": "stderr",
          "text": [
            "/usr/local/lib/python3.10/dist-packages/Bio/PDB/StructureBuilder.py:89: PDBConstructionWarning: WARNING: Chain A is discontinuous at line 2837.\n",
            "  warnings.warn(\n"
          ]
        }
      ]
    },
    {
      "cell_type": "code",
      "source": [
        "structure"
      ],
      "metadata": {
        "colab": {
          "base_uri": "https://localhost:8080/"
        },
        "id": "AWpql1pMXvMo",
        "outputId": "e67374aa-d25d-49fe-ee49-d0c17e262ae1"
      },
      "execution_count": null,
      "outputs": [
        {
          "output_type": "execute_result",
          "data": {
            "text/plain": [
              "<Structure id=6LU7>"
            ]
          },
          "metadata": {},
          "execution_count": 43
        }
      ]
    },
    {
      "cell_type": "code",
      "source": [
        "model = structure[0]"
      ],
      "metadata": {
        "id": "xOv8gYYvXvPV"
      },
      "execution_count": null,
      "outputs": []
    },
    {
      "cell_type": "code",
      "source": [
        "for chain in model:\n",
        "  print(f'Chain{chain},Chain_ID{chain.id}')"
      ],
      "metadata": {
        "colab": {
          "base_uri": "https://localhost:8080/"
        },
        "id": "XIG_eUNTXvSM",
        "outputId": "bfcf10e7-cab8-4952-aa73-3fe917d1f61f"
      },
      "execution_count": null,
      "outputs": [
        {
          "output_type": "stream",
          "name": "stdout",
          "text": [
            "Chain<Chain id=A>,Chain_IDA\n",
            "Chain<Chain id=C>,Chain_IDC\n"
          ]
        }
      ]
    },
    {
      "cell_type": "code",
      "source": [
        "#Check residue\n",
        "for chain in model:\n",
        "  print(f'Chain{chain}, CHain_ID{chain.id}')\n",
        "  for residue in chain:\n",
        "    print(residue)"
      ],
      "metadata": {
        "colab": {
          "base_uri": "https://localhost:8080/"
        },
        "id": "SJsqx2N-XvUu",
        "outputId": "4ac19764-a147-4d31-b663-4355c21c462b"
      },
      "execution_count": null,
      "outputs": [
        {
          "output_type": "stream",
          "name": "stdout",
          "text": [
            "Chain<Chain id=A>, CHain_IDA\n",
            "<Residue SER het=  resseq=1 icode= >\n",
            "<Residue GLY het=  resseq=2 icode= >\n",
            "<Residue PHE het=  resseq=3 icode= >\n",
            "<Residue ARG het=  resseq=4 icode= >\n",
            "<Residue LYS het=  resseq=5 icode= >\n",
            "<Residue MET het=  resseq=6 icode= >\n",
            "<Residue ALA het=  resseq=7 icode= >\n",
            "<Residue PHE het=  resseq=8 icode= >\n",
            "<Residue PRO het=  resseq=9 icode= >\n",
            "<Residue SER het=  resseq=10 icode= >\n",
            "<Residue GLY het=  resseq=11 icode= >\n",
            "<Residue LYS het=  resseq=12 icode= >\n",
            "<Residue VAL het=  resseq=13 icode= >\n",
            "<Residue GLU het=  resseq=14 icode= >\n",
            "<Residue GLY het=  resseq=15 icode= >\n",
            "<Residue CYS het=  resseq=16 icode= >\n",
            "<Residue MET het=  resseq=17 icode= >\n",
            "<Residue VAL het=  resseq=18 icode= >\n",
            "<Residue GLN het=  resseq=19 icode= >\n",
            "<Residue VAL het=  resseq=20 icode= >\n",
            "<Residue THR het=  resseq=21 icode= >\n",
            "<Residue CYS het=  resseq=22 icode= >\n",
            "<Residue GLY het=  resseq=23 icode= >\n",
            "<Residue THR het=  resseq=24 icode= >\n",
            "<Residue THR het=  resseq=25 icode= >\n",
            "<Residue THR het=  resseq=26 icode= >\n",
            "<Residue LEU het=  resseq=27 icode= >\n",
            "<Residue ASN het=  resseq=28 icode= >\n",
            "<Residue GLY het=  resseq=29 icode= >\n",
            "<Residue LEU het=  resseq=30 icode= >\n",
            "<Residue TRP het=  resseq=31 icode= >\n",
            "<Residue LEU het=  resseq=32 icode= >\n",
            "<Residue ASP het=  resseq=33 icode= >\n",
            "<Residue ASP het=  resseq=34 icode= >\n",
            "<Residue VAL het=  resseq=35 icode= >\n",
            "<Residue VAL het=  resseq=36 icode= >\n",
            "<Residue TYR het=  resseq=37 icode= >\n",
            "<Residue CYS het=  resseq=38 icode= >\n",
            "<Residue PRO het=  resseq=39 icode= >\n",
            "<Residue ARG het=  resseq=40 icode= >\n",
            "<Residue HIS het=  resseq=41 icode= >\n",
            "<Residue VAL het=  resseq=42 icode= >\n",
            "<Residue ILE het=  resseq=43 icode= >\n",
            "<Residue CYS het=  resseq=44 icode= >\n",
            "<Residue THR het=  resseq=45 icode= >\n",
            "<Residue SER het=  resseq=46 icode= >\n",
            "<Residue GLU het=  resseq=47 icode= >\n",
            "<Residue ASP het=  resseq=48 icode= >\n",
            "<Residue MET het=  resseq=49 icode= >\n",
            "<Residue LEU het=  resseq=50 icode= >\n",
            "<Residue ASN het=  resseq=51 icode= >\n",
            "<Residue PRO het=  resseq=52 icode= >\n",
            "<Residue ASN het=  resseq=53 icode= >\n",
            "<Residue TYR het=  resseq=54 icode= >\n",
            "<Residue GLU het=  resseq=55 icode= >\n",
            "<Residue ASP het=  resseq=56 icode= >\n",
            "<Residue LEU het=  resseq=57 icode= >\n",
            "<Residue LEU het=  resseq=58 icode= >\n",
            "<Residue ILE het=  resseq=59 icode= >\n",
            "<Residue ARG het=  resseq=60 icode= >\n",
            "<Residue LYS het=  resseq=61 icode= >\n",
            "<Residue SER het=  resseq=62 icode= >\n",
            "<Residue ASN het=  resseq=63 icode= >\n",
            "<Residue HIS het=  resseq=64 icode= >\n",
            "<Residue ASN het=  resseq=65 icode= >\n",
            "<Residue PHE het=  resseq=66 icode= >\n",
            "<Residue LEU het=  resseq=67 icode= >\n",
            "<Residue VAL het=  resseq=68 icode= >\n",
            "<Residue GLN het=  resseq=69 icode= >\n",
            "<Residue ALA het=  resseq=70 icode= >\n",
            "<Residue GLY het=  resseq=71 icode= >\n",
            "<Residue ASN het=  resseq=72 icode= >\n",
            "<Residue VAL het=  resseq=73 icode= >\n",
            "<Residue GLN het=  resseq=74 icode= >\n",
            "<Residue LEU het=  resseq=75 icode= >\n",
            "<Residue ARG het=  resseq=76 icode= >\n",
            "<Residue VAL het=  resseq=77 icode= >\n",
            "<Residue ILE het=  resseq=78 icode= >\n",
            "<Residue GLY het=  resseq=79 icode= >\n",
            "<Residue HIS het=  resseq=80 icode= >\n",
            "<Residue SER het=  resseq=81 icode= >\n",
            "<Residue MET het=  resseq=82 icode= >\n",
            "<Residue GLN het=  resseq=83 icode= >\n",
            "<Residue ASN het=  resseq=84 icode= >\n",
            "<Residue CYS het=  resseq=85 icode= >\n",
            "<Residue VAL het=  resseq=86 icode= >\n",
            "<Residue LEU het=  resseq=87 icode= >\n",
            "<Residue LYS het=  resseq=88 icode= >\n",
            "<Residue LEU het=  resseq=89 icode= >\n",
            "<Residue LYS het=  resseq=90 icode= >\n",
            "<Residue VAL het=  resseq=91 icode= >\n",
            "<Residue ASP het=  resseq=92 icode= >\n",
            "<Residue THR het=  resseq=93 icode= >\n",
            "<Residue ALA het=  resseq=94 icode= >\n",
            "<Residue ASN het=  resseq=95 icode= >\n",
            "<Residue PRO het=  resseq=96 icode= >\n",
            "<Residue LYS het=  resseq=97 icode= >\n",
            "<Residue THR het=  resseq=98 icode= >\n",
            "<Residue PRO het=  resseq=99 icode= >\n",
            "<Residue LYS het=  resseq=100 icode= >\n",
            "<Residue TYR het=  resseq=101 icode= >\n",
            "<Residue LYS het=  resseq=102 icode= >\n",
            "<Residue PHE het=  resseq=103 icode= >\n",
            "<Residue VAL het=  resseq=104 icode= >\n",
            "<Residue ARG het=  resseq=105 icode= >\n",
            "<Residue ILE het=  resseq=106 icode= >\n",
            "<Residue GLN het=  resseq=107 icode= >\n",
            "<Residue PRO het=  resseq=108 icode= >\n",
            "<Residue GLY het=  resseq=109 icode= >\n",
            "<Residue GLN het=  resseq=110 icode= >\n",
            "<Residue THR het=  resseq=111 icode= >\n",
            "<Residue PHE het=  resseq=112 icode= >\n",
            "<Residue SER het=  resseq=113 icode= >\n",
            "<Residue VAL het=  resseq=114 icode= >\n",
            "<Residue LEU het=  resseq=115 icode= >\n",
            "<Residue ALA het=  resseq=116 icode= >\n",
            "<Residue CYS het=  resseq=117 icode= >\n",
            "<Residue TYR het=  resseq=118 icode= >\n",
            "<Residue ASN het=  resseq=119 icode= >\n",
            "<Residue GLY het=  resseq=120 icode= >\n",
            "<Residue SER het=  resseq=121 icode= >\n",
            "<Residue PRO het=  resseq=122 icode= >\n",
            "<Residue SER het=  resseq=123 icode= >\n",
            "<Residue GLY het=  resseq=124 icode= >\n",
            "<Residue VAL het=  resseq=125 icode= >\n",
            "<Residue TYR het=  resseq=126 icode= >\n",
            "<Residue GLN het=  resseq=127 icode= >\n",
            "<Residue CYS het=  resseq=128 icode= >\n",
            "<Residue ALA het=  resseq=129 icode= >\n",
            "<Residue MET het=  resseq=130 icode= >\n",
            "<Residue ARG het=  resseq=131 icode= >\n",
            "<Residue PRO het=  resseq=132 icode= >\n",
            "<Residue ASN het=  resseq=133 icode= >\n",
            "<Residue PHE het=  resseq=134 icode= >\n",
            "<Residue THR het=  resseq=135 icode= >\n",
            "<Residue ILE het=  resseq=136 icode= >\n",
            "<Residue LYS het=  resseq=137 icode= >\n",
            "<Residue GLY het=  resseq=138 icode= >\n",
            "<Residue SER het=  resseq=139 icode= >\n",
            "<Residue PHE het=  resseq=140 icode= >\n",
            "<Residue LEU het=  resseq=141 icode= >\n",
            "<Residue ASN het=  resseq=142 icode= >\n",
            "<Residue GLY het=  resseq=143 icode= >\n",
            "<Residue SER het=  resseq=144 icode= >\n",
            "<Residue CYS het=  resseq=145 icode= >\n",
            "<Residue GLY het=  resseq=146 icode= >\n",
            "<Residue SER het=  resseq=147 icode= >\n",
            "<Residue VAL het=  resseq=148 icode= >\n",
            "<Residue GLY het=  resseq=149 icode= >\n",
            "<Residue PHE het=  resseq=150 icode= >\n",
            "<Residue ASN het=  resseq=151 icode= >\n",
            "<Residue ILE het=  resseq=152 icode= >\n",
            "<Residue ASP het=  resseq=153 icode= >\n",
            "<Residue TYR het=  resseq=154 icode= >\n",
            "<Residue ASP het=  resseq=155 icode= >\n",
            "<Residue CYS het=  resseq=156 icode= >\n",
            "<Residue VAL het=  resseq=157 icode= >\n",
            "<Residue SER het=  resseq=158 icode= >\n",
            "<Residue PHE het=  resseq=159 icode= >\n",
            "<Residue CYS het=  resseq=160 icode= >\n",
            "<Residue TYR het=  resseq=161 icode= >\n",
            "<Residue MET het=  resseq=162 icode= >\n",
            "<Residue HIS het=  resseq=163 icode= >\n",
            "<Residue HIS het=  resseq=164 icode= >\n",
            "<Residue MET het=  resseq=165 icode= >\n",
            "<Residue GLU het=  resseq=166 icode= >\n",
            "<Residue LEU het=  resseq=167 icode= >\n",
            "<Residue PRO het=  resseq=168 icode= >\n",
            "<Residue THR het=  resseq=169 icode= >\n",
            "<Residue GLY het=  resseq=170 icode= >\n",
            "<Residue VAL het=  resseq=171 icode= >\n",
            "<Residue HIS het=  resseq=172 icode= >\n",
            "<Residue ALA het=  resseq=173 icode= >\n",
            "<Residue GLY het=  resseq=174 icode= >\n",
            "<Residue THR het=  resseq=175 icode= >\n",
            "<Residue ASP het=  resseq=176 icode= >\n",
            "<Residue LEU het=  resseq=177 icode= >\n",
            "<Residue GLU het=  resseq=178 icode= >\n",
            "<Residue GLY het=  resseq=179 icode= >\n",
            "<Residue ASN het=  resseq=180 icode= >\n",
            "<Residue PHE het=  resseq=181 icode= >\n",
            "<Residue TYR het=  resseq=182 icode= >\n",
            "<Residue GLY het=  resseq=183 icode= >\n",
            "<Residue PRO het=  resseq=184 icode= >\n",
            "<Residue PHE het=  resseq=185 icode= >\n",
            "<Residue VAL het=  resseq=186 icode= >\n",
            "<Residue ASP het=  resseq=187 icode= >\n",
            "<Residue ARG het=  resseq=188 icode= >\n",
            "<Residue GLN het=  resseq=189 icode= >\n",
            "<Residue THR het=  resseq=190 icode= >\n",
            "<Residue ALA het=  resseq=191 icode= >\n",
            "<Residue GLN het=  resseq=192 icode= >\n",
            "<Residue ALA het=  resseq=193 icode= >\n",
            "<Residue ALA het=  resseq=194 icode= >\n",
            "<Residue GLY het=  resseq=195 icode= >\n",
            "<Residue THR het=  resseq=196 icode= >\n",
            "<Residue ASP het=  resseq=197 icode= >\n",
            "<Residue THR het=  resseq=198 icode= >\n",
            "<Residue THR het=  resseq=199 icode= >\n",
            "<Residue ILE het=  resseq=200 icode= >\n",
            "<Residue THR het=  resseq=201 icode= >\n",
            "<Residue VAL het=  resseq=202 icode= >\n",
            "<Residue ASN het=  resseq=203 icode= >\n",
            "<Residue VAL het=  resseq=204 icode= >\n",
            "<Residue LEU het=  resseq=205 icode= >\n",
            "<Residue ALA het=  resseq=206 icode= >\n",
            "<Residue TRP het=  resseq=207 icode= >\n",
            "<Residue LEU het=  resseq=208 icode= >\n",
            "<Residue TYR het=  resseq=209 icode= >\n",
            "<Residue ALA het=  resseq=210 icode= >\n",
            "<Residue ALA het=  resseq=211 icode= >\n",
            "<Residue VAL het=  resseq=212 icode= >\n",
            "<Residue ILE het=  resseq=213 icode= >\n",
            "<Residue ASN het=  resseq=214 icode= >\n",
            "<Residue GLY het=  resseq=215 icode= >\n",
            "<Residue ASP het=  resseq=216 icode= >\n",
            "<Residue ARG het=  resseq=217 icode= >\n",
            "<Residue TRP het=  resseq=218 icode= >\n",
            "<Residue PHE het=  resseq=219 icode= >\n",
            "<Residue LEU het=  resseq=220 icode= >\n",
            "<Residue ASN het=  resseq=221 icode= >\n",
            "<Residue ARG het=  resseq=222 icode= >\n",
            "<Residue PHE het=  resseq=223 icode= >\n",
            "<Residue THR het=  resseq=224 icode= >\n",
            "<Residue THR het=  resseq=225 icode= >\n",
            "<Residue THR het=  resseq=226 icode= >\n",
            "<Residue LEU het=  resseq=227 icode= >\n",
            "<Residue ASN het=  resseq=228 icode= >\n",
            "<Residue ASP het=  resseq=229 icode= >\n",
            "<Residue PHE het=  resseq=230 icode= >\n",
            "<Residue ASN het=  resseq=231 icode= >\n",
            "<Residue LEU het=  resseq=232 icode= >\n",
            "<Residue VAL het=  resseq=233 icode= >\n",
            "<Residue ALA het=  resseq=234 icode= >\n",
            "<Residue MET het=  resseq=235 icode= >\n",
            "<Residue LYS het=  resseq=236 icode= >\n",
            "<Residue TYR het=  resseq=237 icode= >\n",
            "<Residue ASN het=  resseq=238 icode= >\n",
            "<Residue TYR het=  resseq=239 icode= >\n",
            "<Residue GLU het=  resseq=240 icode= >\n",
            "<Residue PRO het=  resseq=241 icode= >\n",
            "<Residue LEU het=  resseq=242 icode= >\n",
            "<Residue THR het=  resseq=243 icode= >\n",
            "<Residue GLN het=  resseq=244 icode= >\n",
            "<Residue ASP het=  resseq=245 icode= >\n",
            "<Residue HIS het=  resseq=246 icode= >\n",
            "<Residue VAL het=  resseq=247 icode= >\n",
            "<Residue ASP het=  resseq=248 icode= >\n",
            "<Residue ILE het=  resseq=249 icode= >\n",
            "<Residue LEU het=  resseq=250 icode= >\n",
            "<Residue GLY het=  resseq=251 icode= >\n",
            "<Residue PRO het=  resseq=252 icode= >\n",
            "<Residue LEU het=  resseq=253 icode= >\n",
            "<Residue SER het=  resseq=254 icode= >\n",
            "<Residue ALA het=  resseq=255 icode= >\n",
            "<Residue GLN het=  resseq=256 icode= >\n",
            "<Residue THR het=  resseq=257 icode= >\n",
            "<Residue GLY het=  resseq=258 icode= >\n",
            "<Residue ILE het=  resseq=259 icode= >\n",
            "<Residue ALA het=  resseq=260 icode= >\n",
            "<Residue VAL het=  resseq=261 icode= >\n",
            "<Residue LEU het=  resseq=262 icode= >\n",
            "<Residue ASP het=  resseq=263 icode= >\n",
            "<Residue MET het=  resseq=264 icode= >\n",
            "<Residue CYS het=  resseq=265 icode= >\n",
            "<Residue ALA het=  resseq=266 icode= >\n",
            "<Residue SER het=  resseq=267 icode= >\n",
            "<Residue LEU het=  resseq=268 icode= >\n",
            "<Residue LYS het=  resseq=269 icode= >\n",
            "<Residue GLU het=  resseq=270 icode= >\n",
            "<Residue LEU het=  resseq=271 icode= >\n",
            "<Residue LEU het=  resseq=272 icode= >\n",
            "<Residue GLN het=  resseq=273 icode= >\n",
            "<Residue ASN het=  resseq=274 icode= >\n",
            "<Residue GLY het=  resseq=275 icode= >\n",
            "<Residue MET het=  resseq=276 icode= >\n",
            "<Residue ASN het=  resseq=277 icode= >\n",
            "<Residue GLY het=  resseq=278 icode= >\n",
            "<Residue ARG het=  resseq=279 icode= >\n",
            "<Residue THR het=  resseq=280 icode= >\n",
            "<Residue ILE het=  resseq=281 icode= >\n",
            "<Residue LEU het=  resseq=282 icode= >\n",
            "<Residue GLY het=  resseq=283 icode= >\n",
            "<Residue SER het=  resseq=284 icode= >\n",
            "<Residue ALA het=  resseq=285 icode= >\n",
            "<Residue LEU het=  resseq=286 icode= >\n",
            "<Residue LEU het=  resseq=287 icode= >\n",
            "<Residue GLU het=  resseq=288 icode= >\n",
            "<Residue ASP het=  resseq=289 icode= >\n",
            "<Residue GLU het=  resseq=290 icode= >\n",
            "<Residue PHE het=  resseq=291 icode= >\n",
            "<Residue THR het=  resseq=292 icode= >\n",
            "<Residue PRO het=  resseq=293 icode= >\n",
            "<Residue PHE het=  resseq=294 icode= >\n",
            "<Residue ASP het=  resseq=295 icode= >\n",
            "<Residue VAL het=  resseq=296 icode= >\n",
            "<Residue VAL het=  resseq=297 icode= >\n",
            "<Residue ARG het=  resseq=298 icode= >\n",
            "<Residue GLN het=  resseq=299 icode= >\n",
            "<Residue CYS het=  resseq=300 icode= >\n",
            "<Residue SER het=  resseq=301 icode= >\n",
            "<Residue GLY het=  resseq=302 icode= >\n",
            "<Residue VAL het=  resseq=303 icode= >\n",
            "<Residue THR het=  resseq=304 icode= >\n",
            "<Residue PHE het=  resseq=305 icode= >\n",
            "<Residue GLN het=  resseq=306 icode= >\n",
            "<Residue HOH het=W resseq=401 icode= >\n",
            "<Residue HOH het=W resseq=402 icode= >\n",
            "<Residue HOH het=W resseq=403 icode= >\n",
            "<Residue HOH het=W resseq=404 icode= >\n",
            "<Residue HOH het=W resseq=405 icode= >\n",
            "<Residue HOH het=W resseq=406 icode= >\n",
            "<Residue HOH het=W resseq=407 icode= >\n",
            "<Residue HOH het=W resseq=408 icode= >\n",
            "<Residue HOH het=W resseq=409 icode= >\n",
            "<Residue HOH het=W resseq=410 icode= >\n",
            "<Residue HOH het=W resseq=411 icode= >\n",
            "<Residue HOH het=W resseq=412 icode= >\n",
            "<Residue HOH het=W resseq=413 icode= >\n",
            "<Residue HOH het=W resseq=414 icode= >\n",
            "<Residue HOH het=W resseq=415 icode= >\n",
            "<Residue HOH het=W resseq=416 icode= >\n",
            "<Residue HOH het=W resseq=417 icode= >\n",
            "<Residue HOH het=W resseq=418 icode= >\n",
            "<Residue HOH het=W resseq=419 icode= >\n",
            "<Residue HOH het=W resseq=420 icode= >\n",
            "<Residue HOH het=W resseq=421 icode= >\n",
            "<Residue HOH het=W resseq=422 icode= >\n",
            "<Residue HOH het=W resseq=423 icode= >\n",
            "<Residue HOH het=W resseq=424 icode= >\n",
            "<Residue HOH het=W resseq=425 icode= >\n",
            "<Residue HOH het=W resseq=426 icode= >\n",
            "<Residue HOH het=W resseq=427 icode= >\n",
            "<Residue HOH het=W resseq=428 icode= >\n",
            "<Residue HOH het=W resseq=429 icode= >\n",
            "<Residue HOH het=W resseq=430 icode= >\n",
            "<Residue HOH het=W resseq=431 icode= >\n",
            "<Residue HOH het=W resseq=432 icode= >\n",
            "<Residue HOH het=W resseq=433 icode= >\n",
            "<Residue HOH het=W resseq=434 icode= >\n",
            "<Residue HOH het=W resseq=435 icode= >\n",
            "<Residue HOH het=W resseq=436 icode= >\n",
            "<Residue HOH het=W resseq=437 icode= >\n",
            "<Residue HOH het=W resseq=438 icode= >\n",
            "<Residue HOH het=W resseq=439 icode= >\n",
            "<Residue HOH het=W resseq=440 icode= >\n",
            "<Residue HOH het=W resseq=441 icode= >\n",
            "<Residue HOH het=W resseq=442 icode= >\n",
            "<Residue HOH het=W resseq=443 icode= >\n",
            "<Residue HOH het=W resseq=444 icode= >\n",
            "<Residue HOH het=W resseq=445 icode= >\n",
            "<Residue HOH het=W resseq=446 icode= >\n",
            "<Residue HOH het=W resseq=447 icode= >\n",
            "<Residue HOH het=W resseq=448 icode= >\n",
            "<Residue HOH het=W resseq=449 icode= >\n",
            "<Residue HOH het=W resseq=450 icode= >\n",
            "<Residue HOH het=W resseq=451 icode= >\n",
            "<Residue HOH het=W resseq=452 icode= >\n",
            "<Residue HOH het=W resseq=453 icode= >\n",
            "<Residue HOH het=W resseq=454 icode= >\n",
            "<Residue HOH het=W resseq=455 icode= >\n",
            "<Residue HOH het=W resseq=456 icode= >\n",
            "<Residue HOH het=W resseq=457 icode= >\n",
            "<Residue HOH het=W resseq=458 icode= >\n",
            "<Residue HOH het=W resseq=459 icode= >\n",
            "<Residue HOH het=W resseq=460 icode= >\n",
            "<Residue HOH het=W resseq=461 icode= >\n",
            "<Residue HOH het=W resseq=462 icode= >\n",
            "<Residue HOH het=W resseq=463 icode= >\n",
            "<Residue HOH het=W resseq=464 icode= >\n",
            "<Residue HOH het=W resseq=465 icode= >\n",
            "<Residue HOH het=W resseq=466 icode= >\n",
            "<Residue HOH het=W resseq=467 icode= >\n",
            "<Residue HOH het=W resseq=468 icode= >\n",
            "<Residue HOH het=W resseq=469 icode= >\n",
            "<Residue HOH het=W resseq=470 icode= >\n",
            "<Residue HOH het=W resseq=471 icode= >\n",
            "<Residue HOH het=W resseq=472 icode= >\n",
            "<Residue HOH het=W resseq=473 icode= >\n",
            "<Residue HOH het=W resseq=474 icode= >\n",
            "<Residue HOH het=W resseq=475 icode= >\n",
            "<Residue HOH het=W resseq=476 icode= >\n",
            "<Residue HOH het=W resseq=477 icode= >\n",
            "<Residue HOH het=W resseq=478 icode= >\n",
            "<Residue HOH het=W resseq=479 icode= >\n",
            "<Residue HOH het=W resseq=480 icode= >\n",
            "<Residue HOH het=W resseq=481 icode= >\n",
            "<Residue HOH het=W resseq=482 icode= >\n",
            "<Residue HOH het=W resseq=483 icode= >\n",
            "<Residue HOH het=W resseq=484 icode= >\n",
            "Chain<Chain id=C>, CHain_IDC\n",
            "<Residue 02J het=H_02J resseq=1 icode= >\n",
            "<Residue ALA het=  resseq=2 icode= >\n",
            "<Residue VAL het=  resseq=3 icode= >\n",
            "<Residue LEU het=  resseq=4 icode= >\n",
            "<Residue PJE het=H_PJE resseq=5 icode= >\n",
            "<Residue 010 het=H_010 resseq=6 icode= >\n"
          ]
        }
      ]
    },
    {
      "cell_type": "code",
      "source": [
        "#check atoms\n",
        "for chain in model:\n",
        "  print(f'Chain{chain}, CHain_ID{chain.id}')\n",
        "  for atom in chain:\n",
        "    print(atom)"
      ],
      "metadata": {
        "colab": {
          "base_uri": "https://localhost:8080/"
        },
        "id": "F3R0YyuWXvXo",
        "outputId": "23b2e9b8-c8ae-4630-d6f3-f0816196dc4b"
      },
      "execution_count": null,
      "outputs": [
        {
          "output_type": "stream",
          "name": "stdout",
          "text": [
            "Chain<Chain id=A>, CHain_IDA\n",
            "<Residue SER het=  resseq=1 icode= >\n",
            "<Residue GLY het=  resseq=2 icode= >\n",
            "<Residue PHE het=  resseq=3 icode= >\n",
            "<Residue ARG het=  resseq=4 icode= >\n",
            "<Residue LYS het=  resseq=5 icode= >\n",
            "<Residue MET het=  resseq=6 icode= >\n",
            "<Residue ALA het=  resseq=7 icode= >\n",
            "<Residue PHE het=  resseq=8 icode= >\n",
            "<Residue PRO het=  resseq=9 icode= >\n",
            "<Residue SER het=  resseq=10 icode= >\n",
            "<Residue GLY het=  resseq=11 icode= >\n",
            "<Residue LYS het=  resseq=12 icode= >\n",
            "<Residue VAL het=  resseq=13 icode= >\n",
            "<Residue GLU het=  resseq=14 icode= >\n",
            "<Residue GLY het=  resseq=15 icode= >\n",
            "<Residue CYS het=  resseq=16 icode= >\n",
            "<Residue MET het=  resseq=17 icode= >\n",
            "<Residue VAL het=  resseq=18 icode= >\n",
            "<Residue GLN het=  resseq=19 icode= >\n",
            "<Residue VAL het=  resseq=20 icode= >\n",
            "<Residue THR het=  resseq=21 icode= >\n",
            "<Residue CYS het=  resseq=22 icode= >\n",
            "<Residue GLY het=  resseq=23 icode= >\n",
            "<Residue THR het=  resseq=24 icode= >\n",
            "<Residue THR het=  resseq=25 icode= >\n",
            "<Residue THR het=  resseq=26 icode= >\n",
            "<Residue LEU het=  resseq=27 icode= >\n",
            "<Residue ASN het=  resseq=28 icode= >\n",
            "<Residue GLY het=  resseq=29 icode= >\n",
            "<Residue LEU het=  resseq=30 icode= >\n",
            "<Residue TRP het=  resseq=31 icode= >\n",
            "<Residue LEU het=  resseq=32 icode= >\n",
            "<Residue ASP het=  resseq=33 icode= >\n",
            "<Residue ASP het=  resseq=34 icode= >\n",
            "<Residue VAL het=  resseq=35 icode= >\n",
            "<Residue VAL het=  resseq=36 icode= >\n",
            "<Residue TYR het=  resseq=37 icode= >\n",
            "<Residue CYS het=  resseq=38 icode= >\n",
            "<Residue PRO het=  resseq=39 icode= >\n",
            "<Residue ARG het=  resseq=40 icode= >\n",
            "<Residue HIS het=  resseq=41 icode= >\n",
            "<Residue VAL het=  resseq=42 icode= >\n",
            "<Residue ILE het=  resseq=43 icode= >\n",
            "<Residue CYS het=  resseq=44 icode= >\n",
            "<Residue THR het=  resseq=45 icode= >\n",
            "<Residue SER het=  resseq=46 icode= >\n",
            "<Residue GLU het=  resseq=47 icode= >\n",
            "<Residue ASP het=  resseq=48 icode= >\n",
            "<Residue MET het=  resseq=49 icode= >\n",
            "<Residue LEU het=  resseq=50 icode= >\n",
            "<Residue ASN het=  resseq=51 icode= >\n",
            "<Residue PRO het=  resseq=52 icode= >\n",
            "<Residue ASN het=  resseq=53 icode= >\n",
            "<Residue TYR het=  resseq=54 icode= >\n",
            "<Residue GLU het=  resseq=55 icode= >\n",
            "<Residue ASP het=  resseq=56 icode= >\n",
            "<Residue LEU het=  resseq=57 icode= >\n",
            "<Residue LEU het=  resseq=58 icode= >\n",
            "<Residue ILE het=  resseq=59 icode= >\n",
            "<Residue ARG het=  resseq=60 icode= >\n",
            "<Residue LYS het=  resseq=61 icode= >\n",
            "<Residue SER het=  resseq=62 icode= >\n",
            "<Residue ASN het=  resseq=63 icode= >\n",
            "<Residue HIS het=  resseq=64 icode= >\n",
            "<Residue ASN het=  resseq=65 icode= >\n",
            "<Residue PHE het=  resseq=66 icode= >\n",
            "<Residue LEU het=  resseq=67 icode= >\n",
            "<Residue VAL het=  resseq=68 icode= >\n",
            "<Residue GLN het=  resseq=69 icode= >\n",
            "<Residue ALA het=  resseq=70 icode= >\n",
            "<Residue GLY het=  resseq=71 icode= >\n",
            "<Residue ASN het=  resseq=72 icode= >\n",
            "<Residue VAL het=  resseq=73 icode= >\n",
            "<Residue GLN het=  resseq=74 icode= >\n",
            "<Residue LEU het=  resseq=75 icode= >\n",
            "<Residue ARG het=  resseq=76 icode= >\n",
            "<Residue VAL het=  resseq=77 icode= >\n",
            "<Residue ILE het=  resseq=78 icode= >\n",
            "<Residue GLY het=  resseq=79 icode= >\n",
            "<Residue HIS het=  resseq=80 icode= >\n",
            "<Residue SER het=  resseq=81 icode= >\n",
            "<Residue MET het=  resseq=82 icode= >\n",
            "<Residue GLN het=  resseq=83 icode= >\n",
            "<Residue ASN het=  resseq=84 icode= >\n",
            "<Residue CYS het=  resseq=85 icode= >\n",
            "<Residue VAL het=  resseq=86 icode= >\n",
            "<Residue LEU het=  resseq=87 icode= >\n",
            "<Residue LYS het=  resseq=88 icode= >\n",
            "<Residue LEU het=  resseq=89 icode= >\n",
            "<Residue LYS het=  resseq=90 icode= >\n",
            "<Residue VAL het=  resseq=91 icode= >\n",
            "<Residue ASP het=  resseq=92 icode= >\n",
            "<Residue THR het=  resseq=93 icode= >\n",
            "<Residue ALA het=  resseq=94 icode= >\n",
            "<Residue ASN het=  resseq=95 icode= >\n",
            "<Residue PRO het=  resseq=96 icode= >\n",
            "<Residue LYS het=  resseq=97 icode= >\n",
            "<Residue THR het=  resseq=98 icode= >\n",
            "<Residue PRO het=  resseq=99 icode= >\n",
            "<Residue LYS het=  resseq=100 icode= >\n",
            "<Residue TYR het=  resseq=101 icode= >\n",
            "<Residue LYS het=  resseq=102 icode= >\n",
            "<Residue PHE het=  resseq=103 icode= >\n",
            "<Residue VAL het=  resseq=104 icode= >\n",
            "<Residue ARG het=  resseq=105 icode= >\n",
            "<Residue ILE het=  resseq=106 icode= >\n",
            "<Residue GLN het=  resseq=107 icode= >\n",
            "<Residue PRO het=  resseq=108 icode= >\n",
            "<Residue GLY het=  resseq=109 icode= >\n",
            "<Residue GLN het=  resseq=110 icode= >\n",
            "<Residue THR het=  resseq=111 icode= >\n",
            "<Residue PHE het=  resseq=112 icode= >\n",
            "<Residue SER het=  resseq=113 icode= >\n",
            "<Residue VAL het=  resseq=114 icode= >\n",
            "<Residue LEU het=  resseq=115 icode= >\n",
            "<Residue ALA het=  resseq=116 icode= >\n",
            "<Residue CYS het=  resseq=117 icode= >\n",
            "<Residue TYR het=  resseq=118 icode= >\n",
            "<Residue ASN het=  resseq=119 icode= >\n",
            "<Residue GLY het=  resseq=120 icode= >\n",
            "<Residue SER het=  resseq=121 icode= >\n",
            "<Residue PRO het=  resseq=122 icode= >\n",
            "<Residue SER het=  resseq=123 icode= >\n",
            "<Residue GLY het=  resseq=124 icode= >\n",
            "<Residue VAL het=  resseq=125 icode= >\n",
            "<Residue TYR het=  resseq=126 icode= >\n",
            "<Residue GLN het=  resseq=127 icode= >\n",
            "<Residue CYS het=  resseq=128 icode= >\n",
            "<Residue ALA het=  resseq=129 icode= >\n",
            "<Residue MET het=  resseq=130 icode= >\n",
            "<Residue ARG het=  resseq=131 icode= >\n",
            "<Residue PRO het=  resseq=132 icode= >\n",
            "<Residue ASN het=  resseq=133 icode= >\n",
            "<Residue PHE het=  resseq=134 icode= >\n",
            "<Residue THR het=  resseq=135 icode= >\n",
            "<Residue ILE het=  resseq=136 icode= >\n",
            "<Residue LYS het=  resseq=137 icode= >\n",
            "<Residue GLY het=  resseq=138 icode= >\n",
            "<Residue SER het=  resseq=139 icode= >\n",
            "<Residue PHE het=  resseq=140 icode= >\n",
            "<Residue LEU het=  resseq=141 icode= >\n",
            "<Residue ASN het=  resseq=142 icode= >\n",
            "<Residue GLY het=  resseq=143 icode= >\n",
            "<Residue SER het=  resseq=144 icode= >\n",
            "<Residue CYS het=  resseq=145 icode= >\n",
            "<Residue GLY het=  resseq=146 icode= >\n",
            "<Residue SER het=  resseq=147 icode= >\n",
            "<Residue VAL het=  resseq=148 icode= >\n",
            "<Residue GLY het=  resseq=149 icode= >\n",
            "<Residue PHE het=  resseq=150 icode= >\n",
            "<Residue ASN het=  resseq=151 icode= >\n",
            "<Residue ILE het=  resseq=152 icode= >\n",
            "<Residue ASP het=  resseq=153 icode= >\n",
            "<Residue TYR het=  resseq=154 icode= >\n",
            "<Residue ASP het=  resseq=155 icode= >\n",
            "<Residue CYS het=  resseq=156 icode= >\n",
            "<Residue VAL het=  resseq=157 icode= >\n",
            "<Residue SER het=  resseq=158 icode= >\n",
            "<Residue PHE het=  resseq=159 icode= >\n",
            "<Residue CYS het=  resseq=160 icode= >\n",
            "<Residue TYR het=  resseq=161 icode= >\n",
            "<Residue MET het=  resseq=162 icode= >\n",
            "<Residue HIS het=  resseq=163 icode= >\n",
            "<Residue HIS het=  resseq=164 icode= >\n",
            "<Residue MET het=  resseq=165 icode= >\n",
            "<Residue GLU het=  resseq=166 icode= >\n",
            "<Residue LEU het=  resseq=167 icode= >\n",
            "<Residue PRO het=  resseq=168 icode= >\n",
            "<Residue THR het=  resseq=169 icode= >\n",
            "<Residue GLY het=  resseq=170 icode= >\n",
            "<Residue VAL het=  resseq=171 icode= >\n",
            "<Residue HIS het=  resseq=172 icode= >\n",
            "<Residue ALA het=  resseq=173 icode= >\n",
            "<Residue GLY het=  resseq=174 icode= >\n",
            "<Residue THR het=  resseq=175 icode= >\n",
            "<Residue ASP het=  resseq=176 icode= >\n",
            "<Residue LEU het=  resseq=177 icode= >\n",
            "<Residue GLU het=  resseq=178 icode= >\n",
            "<Residue GLY het=  resseq=179 icode= >\n",
            "<Residue ASN het=  resseq=180 icode= >\n",
            "<Residue PHE het=  resseq=181 icode= >\n",
            "<Residue TYR het=  resseq=182 icode= >\n",
            "<Residue GLY het=  resseq=183 icode= >\n",
            "<Residue PRO het=  resseq=184 icode= >\n",
            "<Residue PHE het=  resseq=185 icode= >\n",
            "<Residue VAL het=  resseq=186 icode= >\n",
            "<Residue ASP het=  resseq=187 icode= >\n",
            "<Residue ARG het=  resseq=188 icode= >\n",
            "<Residue GLN het=  resseq=189 icode= >\n",
            "<Residue THR het=  resseq=190 icode= >\n",
            "<Residue ALA het=  resseq=191 icode= >\n",
            "<Residue GLN het=  resseq=192 icode= >\n",
            "<Residue ALA het=  resseq=193 icode= >\n",
            "<Residue ALA het=  resseq=194 icode= >\n",
            "<Residue GLY het=  resseq=195 icode= >\n",
            "<Residue THR het=  resseq=196 icode= >\n",
            "<Residue ASP het=  resseq=197 icode= >\n",
            "<Residue THR het=  resseq=198 icode= >\n",
            "<Residue THR het=  resseq=199 icode= >\n",
            "<Residue ILE het=  resseq=200 icode= >\n",
            "<Residue THR het=  resseq=201 icode= >\n",
            "<Residue VAL het=  resseq=202 icode= >\n",
            "<Residue ASN het=  resseq=203 icode= >\n",
            "<Residue VAL het=  resseq=204 icode= >\n",
            "<Residue LEU het=  resseq=205 icode= >\n",
            "<Residue ALA het=  resseq=206 icode= >\n",
            "<Residue TRP het=  resseq=207 icode= >\n",
            "<Residue LEU het=  resseq=208 icode= >\n",
            "<Residue TYR het=  resseq=209 icode= >\n",
            "<Residue ALA het=  resseq=210 icode= >\n",
            "<Residue ALA het=  resseq=211 icode= >\n",
            "<Residue VAL het=  resseq=212 icode= >\n",
            "<Residue ILE het=  resseq=213 icode= >\n",
            "<Residue ASN het=  resseq=214 icode= >\n",
            "<Residue GLY het=  resseq=215 icode= >\n",
            "<Residue ASP het=  resseq=216 icode= >\n",
            "<Residue ARG het=  resseq=217 icode= >\n",
            "<Residue TRP het=  resseq=218 icode= >\n",
            "<Residue PHE het=  resseq=219 icode= >\n",
            "<Residue LEU het=  resseq=220 icode= >\n",
            "<Residue ASN het=  resseq=221 icode= >\n",
            "<Residue ARG het=  resseq=222 icode= >\n",
            "<Residue PHE het=  resseq=223 icode= >\n",
            "<Residue THR het=  resseq=224 icode= >\n",
            "<Residue THR het=  resseq=225 icode= >\n",
            "<Residue THR het=  resseq=226 icode= >\n",
            "<Residue LEU het=  resseq=227 icode= >\n",
            "<Residue ASN het=  resseq=228 icode= >\n",
            "<Residue ASP het=  resseq=229 icode= >\n",
            "<Residue PHE het=  resseq=230 icode= >\n",
            "<Residue ASN het=  resseq=231 icode= >\n",
            "<Residue LEU het=  resseq=232 icode= >\n",
            "<Residue VAL het=  resseq=233 icode= >\n",
            "<Residue ALA het=  resseq=234 icode= >\n",
            "<Residue MET het=  resseq=235 icode= >\n",
            "<Residue LYS het=  resseq=236 icode= >\n",
            "<Residue TYR het=  resseq=237 icode= >\n",
            "<Residue ASN het=  resseq=238 icode= >\n",
            "<Residue TYR het=  resseq=239 icode= >\n",
            "<Residue GLU het=  resseq=240 icode= >\n",
            "<Residue PRO het=  resseq=241 icode= >\n",
            "<Residue LEU het=  resseq=242 icode= >\n",
            "<Residue THR het=  resseq=243 icode= >\n",
            "<Residue GLN het=  resseq=244 icode= >\n",
            "<Residue ASP het=  resseq=245 icode= >\n",
            "<Residue HIS het=  resseq=246 icode= >\n",
            "<Residue VAL het=  resseq=247 icode= >\n",
            "<Residue ASP het=  resseq=248 icode= >\n",
            "<Residue ILE het=  resseq=249 icode= >\n",
            "<Residue LEU het=  resseq=250 icode= >\n",
            "<Residue GLY het=  resseq=251 icode= >\n",
            "<Residue PRO het=  resseq=252 icode= >\n",
            "<Residue LEU het=  resseq=253 icode= >\n",
            "<Residue SER het=  resseq=254 icode= >\n",
            "<Residue ALA het=  resseq=255 icode= >\n",
            "<Residue GLN het=  resseq=256 icode= >\n",
            "<Residue THR het=  resseq=257 icode= >\n",
            "<Residue GLY het=  resseq=258 icode= >\n",
            "<Residue ILE het=  resseq=259 icode= >\n",
            "<Residue ALA het=  resseq=260 icode= >\n",
            "<Residue VAL het=  resseq=261 icode= >\n",
            "<Residue LEU het=  resseq=262 icode= >\n",
            "<Residue ASP het=  resseq=263 icode= >\n",
            "<Residue MET het=  resseq=264 icode= >\n",
            "<Residue CYS het=  resseq=265 icode= >\n",
            "<Residue ALA het=  resseq=266 icode= >\n",
            "<Residue SER het=  resseq=267 icode= >\n",
            "<Residue LEU het=  resseq=268 icode= >\n",
            "<Residue LYS het=  resseq=269 icode= >\n",
            "<Residue GLU het=  resseq=270 icode= >\n",
            "<Residue LEU het=  resseq=271 icode= >\n",
            "<Residue LEU het=  resseq=272 icode= >\n",
            "<Residue GLN het=  resseq=273 icode= >\n",
            "<Residue ASN het=  resseq=274 icode= >\n",
            "<Residue GLY het=  resseq=275 icode= >\n",
            "<Residue MET het=  resseq=276 icode= >\n",
            "<Residue ASN het=  resseq=277 icode= >\n",
            "<Residue GLY het=  resseq=278 icode= >\n",
            "<Residue ARG het=  resseq=279 icode= >\n",
            "<Residue THR het=  resseq=280 icode= >\n",
            "<Residue ILE het=  resseq=281 icode= >\n",
            "<Residue LEU het=  resseq=282 icode= >\n",
            "<Residue GLY het=  resseq=283 icode= >\n",
            "<Residue SER het=  resseq=284 icode= >\n",
            "<Residue ALA het=  resseq=285 icode= >\n",
            "<Residue LEU het=  resseq=286 icode= >\n",
            "<Residue LEU het=  resseq=287 icode= >\n",
            "<Residue GLU het=  resseq=288 icode= >\n",
            "<Residue ASP het=  resseq=289 icode= >\n",
            "<Residue GLU het=  resseq=290 icode= >\n",
            "<Residue PHE het=  resseq=291 icode= >\n",
            "<Residue THR het=  resseq=292 icode= >\n",
            "<Residue PRO het=  resseq=293 icode= >\n",
            "<Residue PHE het=  resseq=294 icode= >\n",
            "<Residue ASP het=  resseq=295 icode= >\n",
            "<Residue VAL het=  resseq=296 icode= >\n",
            "<Residue VAL het=  resseq=297 icode= >\n",
            "<Residue ARG het=  resseq=298 icode= >\n",
            "<Residue GLN het=  resseq=299 icode= >\n",
            "<Residue CYS het=  resseq=300 icode= >\n",
            "<Residue SER het=  resseq=301 icode= >\n",
            "<Residue GLY het=  resseq=302 icode= >\n",
            "<Residue VAL het=  resseq=303 icode= >\n",
            "<Residue THR het=  resseq=304 icode= >\n",
            "<Residue PHE het=  resseq=305 icode= >\n",
            "<Residue GLN het=  resseq=306 icode= >\n",
            "<Residue HOH het=W resseq=401 icode= >\n",
            "<Residue HOH het=W resseq=402 icode= >\n",
            "<Residue HOH het=W resseq=403 icode= >\n",
            "<Residue HOH het=W resseq=404 icode= >\n",
            "<Residue HOH het=W resseq=405 icode= >\n",
            "<Residue HOH het=W resseq=406 icode= >\n",
            "<Residue HOH het=W resseq=407 icode= >\n",
            "<Residue HOH het=W resseq=408 icode= >\n",
            "<Residue HOH het=W resseq=409 icode= >\n",
            "<Residue HOH het=W resseq=410 icode= >\n",
            "<Residue HOH het=W resseq=411 icode= >\n",
            "<Residue HOH het=W resseq=412 icode= >\n",
            "<Residue HOH het=W resseq=413 icode= >\n",
            "<Residue HOH het=W resseq=414 icode= >\n",
            "<Residue HOH het=W resseq=415 icode= >\n",
            "<Residue HOH het=W resseq=416 icode= >\n",
            "<Residue HOH het=W resseq=417 icode= >\n",
            "<Residue HOH het=W resseq=418 icode= >\n",
            "<Residue HOH het=W resseq=419 icode= >\n",
            "<Residue HOH het=W resseq=420 icode= >\n",
            "<Residue HOH het=W resseq=421 icode= >\n",
            "<Residue HOH het=W resseq=422 icode= >\n",
            "<Residue HOH het=W resseq=423 icode= >\n",
            "<Residue HOH het=W resseq=424 icode= >\n",
            "<Residue HOH het=W resseq=425 icode= >\n",
            "<Residue HOH het=W resseq=426 icode= >\n",
            "<Residue HOH het=W resseq=427 icode= >\n",
            "<Residue HOH het=W resseq=428 icode= >\n",
            "<Residue HOH het=W resseq=429 icode= >\n",
            "<Residue HOH het=W resseq=430 icode= >\n",
            "<Residue HOH het=W resseq=431 icode= >\n",
            "<Residue HOH het=W resseq=432 icode= >\n",
            "<Residue HOH het=W resseq=433 icode= >\n",
            "<Residue HOH het=W resseq=434 icode= >\n",
            "<Residue HOH het=W resseq=435 icode= >\n",
            "<Residue HOH het=W resseq=436 icode= >\n",
            "<Residue HOH het=W resseq=437 icode= >\n",
            "<Residue HOH het=W resseq=438 icode= >\n",
            "<Residue HOH het=W resseq=439 icode= >\n",
            "<Residue HOH het=W resseq=440 icode= >\n",
            "<Residue HOH het=W resseq=441 icode= >\n",
            "<Residue HOH het=W resseq=442 icode= >\n",
            "<Residue HOH het=W resseq=443 icode= >\n",
            "<Residue HOH het=W resseq=444 icode= >\n",
            "<Residue HOH het=W resseq=445 icode= >\n",
            "<Residue HOH het=W resseq=446 icode= >\n",
            "<Residue HOH het=W resseq=447 icode= >\n",
            "<Residue HOH het=W resseq=448 icode= >\n",
            "<Residue HOH het=W resseq=449 icode= >\n",
            "<Residue HOH het=W resseq=450 icode= >\n",
            "<Residue HOH het=W resseq=451 icode= >\n",
            "<Residue HOH het=W resseq=452 icode= >\n",
            "<Residue HOH het=W resseq=453 icode= >\n",
            "<Residue HOH het=W resseq=454 icode= >\n",
            "<Residue HOH het=W resseq=455 icode= >\n",
            "<Residue HOH het=W resseq=456 icode= >\n",
            "<Residue HOH het=W resseq=457 icode= >\n",
            "<Residue HOH het=W resseq=458 icode= >\n",
            "<Residue HOH het=W resseq=459 icode= >\n",
            "<Residue HOH het=W resseq=460 icode= >\n",
            "<Residue HOH het=W resseq=461 icode= >\n",
            "<Residue HOH het=W resseq=462 icode= >\n",
            "<Residue HOH het=W resseq=463 icode= >\n",
            "<Residue HOH het=W resseq=464 icode= >\n",
            "<Residue HOH het=W resseq=465 icode= >\n",
            "<Residue HOH het=W resseq=466 icode= >\n",
            "<Residue HOH het=W resseq=467 icode= >\n",
            "<Residue HOH het=W resseq=468 icode= >\n",
            "<Residue HOH het=W resseq=469 icode= >\n",
            "<Residue HOH het=W resseq=470 icode= >\n",
            "<Residue HOH het=W resseq=471 icode= >\n",
            "<Residue HOH het=W resseq=472 icode= >\n",
            "<Residue HOH het=W resseq=473 icode= >\n",
            "<Residue HOH het=W resseq=474 icode= >\n",
            "<Residue HOH het=W resseq=475 icode= >\n",
            "<Residue HOH het=W resseq=476 icode= >\n",
            "<Residue HOH het=W resseq=477 icode= >\n",
            "<Residue HOH het=W resseq=478 icode= >\n",
            "<Residue HOH het=W resseq=479 icode= >\n",
            "<Residue HOH het=W resseq=480 icode= >\n",
            "<Residue HOH het=W resseq=481 icode= >\n",
            "<Residue HOH het=W resseq=482 icode= >\n",
            "<Residue HOH het=W resseq=483 icode= >\n",
            "<Residue HOH het=W resseq=484 icode= >\n",
            "Chain<Chain id=C>, CHain_IDC\n",
            "<Residue 02J het=H_02J resseq=1 icode= >\n",
            "<Residue ALA het=  resseq=2 icode= >\n",
            "<Residue VAL het=  resseq=3 icode= >\n",
            "<Residue LEU het=  resseq=4 icode= >\n",
            "<Residue PJE het=H_PJE resseq=5 icode= >\n",
            "<Residue 010 het=H_010 resseq=6 icode= >\n"
          ]
        }
      ]
    },
    {
      "cell_type": "code",
      "source": [
        "!pip install py3Dmol"
      ],
      "metadata": {
        "colab": {
          "base_uri": "https://localhost:8080/"
        },
        "id": "VIQKOiAWeuUX",
        "outputId": "81f7aa37-8be2-4270-a81d-eea06e1723b7"
      },
      "execution_count": null,
      "outputs": [
        {
          "output_type": "stream",
          "name": "stdout",
          "text": [
            "Collecting py3Dmol\n",
            "  Downloading py3Dmol-2.1.0-py2.py3-none-any.whl (12 kB)\n",
            "Installing collected packages: py3Dmol\n",
            "Successfully installed py3Dmol-2.1.0\n"
          ]
        }
      ]
    },
    {
      "cell_type": "code",
      "source": [
        "!pip install --upgrade pip"
      ],
      "metadata": {
        "colab": {
          "base_uri": "https://localhost:8080/"
        },
        "id": "4vmdWxbAe1_R",
        "outputId": "586832a2-ae61-4bfc-8160-1cf277c959ad"
      },
      "execution_count": null,
      "outputs": [
        {
          "output_type": "stream",
          "name": "stdout",
          "text": [
            "Requirement already satisfied: pip in /usr/local/lib/python3.10/dist-packages (23.1.2)\n",
            "Collecting pip\n",
            "  Downloading pip-24.0-py3-none-any.whl (2.1 MB)\n",
            "\u001b[2K     \u001b[90m━━━━━━━━━━━━━━━━━━━━━━━━━━━━━━━━━━━━━━━━\u001b[0m \u001b[32m2.1/2.1 MB\u001b[0m \u001b[31m10.8 MB/s\u001b[0m eta \u001b[36m0:00:00\u001b[0m\n",
            "\u001b[?25hInstalling collected packages: pip\n",
            "  Attempting uninstall: pip\n",
            "    Found existing installation: pip 23.1.2\n",
            "    Uninstalling pip-23.1.2:\n",
            "      Successfully uninstalled pip-23.1.2\n",
            "Successfully installed pip-24.0\n"
          ]
        }
      ]
    },
    {
      "cell_type": "code",
      "source": [
        "import py3Dmol\n",
        "view1 = py3Dmol.view(query='pdb:6LU7')\n",
        "view1.setStyle({'cartoon':{'color':'spectrum'}})"
      ],
      "metadata": {
        "colab": {
          "base_uri": "https://localhost:8080/",
          "height": 514
        },
        "id": "B3N87tUUXvaO",
        "outputId": "eae1c23a-2a79-4c62-99e7-dbe25a42c165"
      },
      "execution_count": null,
      "outputs": [
        {
          "output_type": "display_data",
          "data": {
            "application/3dmoljs_load.v0": "<div id=\"3dmolviewer_17104956452676606\"  style=\"position: relative; width: 640px; height: 480px;\">\n        <p id=\"3dmolwarning_17104956452676606\" style=\"background-color:#ffcccc;color:black\">3Dmol.js failed to load for some reason.  Please check your browser console for error messages.<br></p>\n        </div>\n<script>\n\nvar loadScriptAsync = function(uri){\n  return new Promise((resolve, reject) => {\n    //this is to ignore the existence of requirejs amd\n    var savedexports, savedmodule;\n    if (typeof exports !== 'undefined') savedexports = exports;\n    else exports = {}\n    if (typeof module !== 'undefined') savedmodule = module;\n    else module = {}\n\n    var tag = document.createElement('script');\n    tag.src = uri;\n    tag.async = true;\n    tag.onload = () => {\n        exports = savedexports;\n        module = savedmodule;\n        resolve();\n    };\n  var firstScriptTag = document.getElementsByTagName('script')[0];\n  firstScriptTag.parentNode.insertBefore(tag, firstScriptTag);\n});\n};\n\nif(typeof $3Dmolpromise === 'undefined') {\n$3Dmolpromise = null;\n  $3Dmolpromise = loadScriptAsync('https://cdnjs.cloudflare.com/ajax/libs/3Dmol/2.1.0/3Dmol-min.js');\n}\n\nvar viewer_17104956452676606 = null;\nvar warn = document.getElementById(\"3dmolwarning_17104956452676606\");\nif(warn) {\n    warn.parentNode.removeChild(warn);\n}\n$3Dmolpromise.then(function() {\nviewer_17104956452676606 = $3Dmol.createViewer(document.getElementById(\"3dmolviewer_17104956452676606\"),{backgroundColor:\"white\"});\n$3Dmol.download(\"pdb:6LU7\", viewer_17104956452676606, {}, function() {\nviewer_17104956452676606.zoomTo();\n\tviewer_17104956452676606.setStyle({\"cartoon\": {\"color\": \"spectrum\"}});\nviewer_17104956452676606.render();\n})\n});\n</script>",
            "text/html": [
              "<div id=\"3dmolviewer_17104956452676606\"  style=\"position: relative; width: 640px; height: 480px;\">\n",
              "        <p id=\"3dmolwarning_17104956452676606\" style=\"background-color:#ffcccc;color:black\">3Dmol.js failed to load for some reason.  Please check your browser console for error messages.<br></p>\n",
              "        </div>\n",
              "<script>\n",
              "\n",
              "var loadScriptAsync = function(uri){\n",
              "  return new Promise((resolve, reject) => {\n",
              "    //this is to ignore the existence of requirejs amd\n",
              "    var savedexports, savedmodule;\n",
              "    if (typeof exports !== 'undefined') savedexports = exports;\n",
              "    else exports = {}\n",
              "    if (typeof module !== 'undefined') savedmodule = module;\n",
              "    else module = {}\n",
              "\n",
              "    var tag = document.createElement('script');\n",
              "    tag.src = uri;\n",
              "    tag.async = true;\n",
              "    tag.onload = () => {\n",
              "        exports = savedexports;\n",
              "        module = savedmodule;\n",
              "        resolve();\n",
              "    };\n",
              "  var firstScriptTag = document.getElementsByTagName('script')[0];\n",
              "  firstScriptTag.parentNode.insertBefore(tag, firstScriptTag);\n",
              "});\n",
              "};\n",
              "\n",
              "if(typeof $3Dmolpromise === 'undefined') {\n",
              "$3Dmolpromise = null;\n",
              "  $3Dmolpromise = loadScriptAsync('https://cdnjs.cloudflare.com/ajax/libs/3Dmol/2.1.0/3Dmol-min.js');\n",
              "}\n",
              "\n",
              "var viewer_17104956452676606 = null;\n",
              "var warn = document.getElementById(\"3dmolwarning_17104956452676606\");\n",
              "if(warn) {\n",
              "    warn.parentNode.removeChild(warn);\n",
              "}\n",
              "$3Dmolpromise.then(function() {\n",
              "viewer_17104956452676606 = $3Dmol.createViewer(document.getElementById(\"3dmolviewer_17104956452676606\"),{backgroundColor:\"white\"});\n",
              "$3Dmol.download(\"pdb:6LU7\", viewer_17104956452676606, {}, function() {\n",
              "viewer_17104956452676606.zoomTo();\n",
              "\tviewer_17104956452676606.setStyle({\"cartoon\": {\"color\": \"spectrum\"}});\n",
              "viewer_17104956452676606.render();\n",
              "})\n",
              "});\n",
              "</script>"
            ]
          },
          "metadata": {}
        },
        {
          "output_type": "execute_result",
          "data": {
            "text/plain": [
              "<py3Dmol.view at 0x7b25110b78b0>"
            ]
          },
          "metadata": {},
          "execution_count": 55
        }
      ]
    },
    {
      "cell_type": "code",
      "source": [
        "view2 = py3Dmol.view(query='pdb:4ZS6')\n",
        "view2.setStyle({'cartoon':{'color':'spectrum'}})"
      ],
      "metadata": {
        "colab": {
          "base_uri": "https://localhost:8080/",
          "height": 514
        },
        "id": "13ldAFQkXvdG",
        "outputId": "682f0bff-a52a-45cb-eea7-a0015a8db43f"
      },
      "execution_count": null,
      "outputs": [
        {
          "output_type": "display_data",
          "data": {
            "application/3dmoljs_load.v0": "<div id=\"3dmolviewer_17104956518470745\"  style=\"position: relative; width: 640px; height: 480px;\">\n        <p id=\"3dmolwarning_17104956518470745\" style=\"background-color:#ffcccc;color:black\">3Dmol.js failed to load for some reason.  Please check your browser console for error messages.<br></p>\n        </div>\n<script>\n\nvar loadScriptAsync = function(uri){\n  return new Promise((resolve, reject) => {\n    //this is to ignore the existence of requirejs amd\n    var savedexports, savedmodule;\n    if (typeof exports !== 'undefined') savedexports = exports;\n    else exports = {}\n    if (typeof module !== 'undefined') savedmodule = module;\n    else module = {}\n\n    var tag = document.createElement('script');\n    tag.src = uri;\n    tag.async = true;\n    tag.onload = () => {\n        exports = savedexports;\n        module = savedmodule;\n        resolve();\n    };\n  var firstScriptTag = document.getElementsByTagName('script')[0];\n  firstScriptTag.parentNode.insertBefore(tag, firstScriptTag);\n});\n};\n\nif(typeof $3Dmolpromise === 'undefined') {\n$3Dmolpromise = null;\n  $3Dmolpromise = loadScriptAsync('https://cdnjs.cloudflare.com/ajax/libs/3Dmol/2.1.0/3Dmol-min.js');\n}\n\nvar viewer_17104956518470745 = null;\nvar warn = document.getElementById(\"3dmolwarning_17104956518470745\");\nif(warn) {\n    warn.parentNode.removeChild(warn);\n}\n$3Dmolpromise.then(function() {\nviewer_17104956518470745 = $3Dmol.createViewer(document.getElementById(\"3dmolviewer_17104956518470745\"),{backgroundColor:\"white\"});\n$3Dmol.download(\"pdb:4ZS6\", viewer_17104956518470745, {}, function() {\nviewer_17104956518470745.zoomTo();\n\tviewer_17104956518470745.setStyle({\"cartoon\": {\"color\": \"spectrum\"}});\nviewer_17104956518470745.render();\n})\n});\n</script>",
            "text/html": [
              "<div id=\"3dmolviewer_17104956518470745\"  style=\"position: relative; width: 640px; height: 480px;\">\n",
              "        <p id=\"3dmolwarning_17104956518470745\" style=\"background-color:#ffcccc;color:black\">3Dmol.js failed to load for some reason.  Please check your browser console for error messages.<br></p>\n",
              "        </div>\n",
              "<script>\n",
              "\n",
              "var loadScriptAsync = function(uri){\n",
              "  return new Promise((resolve, reject) => {\n",
              "    //this is to ignore the existence of requirejs amd\n",
              "    var savedexports, savedmodule;\n",
              "    if (typeof exports !== 'undefined') savedexports = exports;\n",
              "    else exports = {}\n",
              "    if (typeof module !== 'undefined') savedmodule = module;\n",
              "    else module = {}\n",
              "\n",
              "    var tag = document.createElement('script');\n",
              "    tag.src = uri;\n",
              "    tag.async = true;\n",
              "    tag.onload = () => {\n",
              "        exports = savedexports;\n",
              "        module = savedmodule;\n",
              "        resolve();\n",
              "    };\n",
              "  var firstScriptTag = document.getElementsByTagName('script')[0];\n",
              "  firstScriptTag.parentNode.insertBefore(tag, firstScriptTag);\n",
              "});\n",
              "};\n",
              "\n",
              "if(typeof $3Dmolpromise === 'undefined') {\n",
              "$3Dmolpromise = null;\n",
              "  $3Dmolpromise = loadScriptAsync('https://cdnjs.cloudflare.com/ajax/libs/3Dmol/2.1.0/3Dmol-min.js');\n",
              "}\n",
              "\n",
              "var viewer_17104956518470745 = null;\n",
              "var warn = document.getElementById(\"3dmolwarning_17104956518470745\");\n",
              "if(warn) {\n",
              "    warn.parentNode.removeChild(warn);\n",
              "}\n",
              "$3Dmolpromise.then(function() {\n",
              "viewer_17104956518470745 = $3Dmol.createViewer(document.getElementById(\"3dmolviewer_17104956518470745\"),{backgroundColor:\"white\"});\n",
              "$3Dmol.download(\"pdb:4ZS6\", viewer_17104956518470745, {}, function() {\n",
              "viewer_17104956518470745.zoomTo();\n",
              "\tviewer_17104956518470745.setStyle({\"cartoon\": {\"color\": \"spectrum\"}});\n",
              "viewer_17104956518470745.render();\n",
              "})\n",
              "});\n",
              "</script>"
            ]
          },
          "metadata": {}
        },
        {
          "output_type": "execute_result",
          "data": {
            "text/plain": [
              "<py3Dmol.view at 0x7b25110b59f0>"
            ]
          },
          "metadata": {},
          "execution_count": 56
        }
      ]
    }
  ]
}