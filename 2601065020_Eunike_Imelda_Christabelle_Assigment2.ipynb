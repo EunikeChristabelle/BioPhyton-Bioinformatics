{
  "nbformat": 4,
  "nbformat_minor": 0,
  "metadata": {
    "colab": {
      "provenance": [],
      "authorship_tag": "ABX9TyNZ3Rre+3ZLPcUzLXG6jH3w",
      "include_colab_link": true
    },
    "kernelspec": {
      "name": "python3",
      "display_name": "Python 3"
    },
    "language_info": {
      "name": "python"
    }
  },
  "cells": [
    {
      "cell_type": "markdown",
      "metadata": {
        "id": "view-in-github",
        "colab_type": "text"
      },
      "source": [
        "<a href=\"https://colab.research.google.com/github/EunikeChristabelle/BioPhyton-Bioinformatics/blob/main/2601065020_Eunike_Imelda_Christabelle_Assigment2.ipynb\" target=\"_parent\"><img src=\"https://colab.research.google.com/assets/colab-badge.svg\" alt=\"Open In Colab\"/></a>"
      ]
    },
    {
      "cell_type": "markdown",
      "source": [
        "### Analisis DNA: Menghitung kandungan GC & AT, titik leleh, berat molekul"
      ],
      "metadata": {
        "id": "DZ4laKlBq_on"
      }
    },
    {
      "cell_type": "code",
      "execution_count": null,
      "metadata": {
        "colab": {
          "base_uri": "https://localhost:8080/"
        },
        "id": "iHjuEzxwXOlY",
        "outputId": "3026490e-c2c6-4b7b-d0b8-569f861b1d66"
      },
      "outputs": [
        {
          "output_type": "stream",
          "name": "stdout",
          "text": [
            "Collecting biopython\n",
            "  Downloading biopython-1.83-cp310-cp310-manylinux_2_17_x86_64.manylinux2014_x86_64.whl (3.1 MB)\n",
            "\u001b[2K     \u001b[90m━━━━━━━━━━━━━━━━━━━━━━━━━━━━━━━━━━━━━━━━\u001b[0m \u001b[32m3.1/3.1 MB\u001b[0m \u001b[31m10.9 MB/s\u001b[0m eta \u001b[36m0:00:00\u001b[0m\n",
            "\u001b[?25hRequirement already satisfied: numpy in /usr/local/lib/python3.10/dist-packages (from biopython) (1.25.2)\n",
            "Installing collected packages: biopython\n",
            "Successfully installed biopython-1.83\n"
          ]
        }
      ],
      "source": [
        "#Installation (try !pip for native anaconda distribution or pip for google colab)\n",
        "!pip install biopython"
      ]
    },
    {
      "cell_type": "code",
      "source": [
        "import Bio"
      ],
      "metadata": {
        "id": "f6sj4yc3XRdD"
      },
      "execution_count": null,
      "outputs": []
    },
    {
      "cell_type": "markdown",
      "source": [
        "Menghitung Kandungan GC Bio.SeqUtils:"
      ],
      "metadata": {
        "id": "_tGGJxa3YsSh"
      }
    },
    {
      "cell_type": "code",
      "source": [
        "# Menghitung GC molekul\n",
        "def calculate_gc_content(seq):\n",
        " return (seq.count('G') + seq.count('C'))/ len(seq) * 100\n",
        "\n",
        "dna_seq = \"AGTACACTGGT\"\n",
        "gc_content= calculate_gc_content(dna_seq)\n",
        "print(f\"the gc content of the DNA sequence is: {gc_content}%\")"
      ],
      "metadata": {
        "colab": {
          "base_uri": "https://localhost:8080/"
        },
        "id": "faPBv5T8Yzgr",
        "outputId": "0be7b651-f9df-41d2-819a-0236ad6cca2a"
      },
      "execution_count": null,
      "outputs": [
        {
          "output_type": "stream",
          "name": "stdout",
          "text": [
            "the gc content of the DNA sequence is: 45.45454545454545%\n"
          ]
        }
      ]
    },
    {
      "cell_type": "markdown",
      "source": [
        "Fungsi Kustom untuk Menghitung Persentase Kandungan GC(Metode 1)"
      ],
      "metadata": {
        "id": "lJmfzVC5Y_gI"
      }
    },
    {
      "cell_type": "code",
      "source": [
        "#Custom func to calculate GC content percentage\n",
        "def gc_content (seq) :\n",
        " result = float(seq.count('G') + seq.count('C'))/len(seq) * 100\n",
        " return result\n",
        "\n",
        "#usage example\n",
        "dna_seq = \"AGCTATAG\"\n",
        "percentage_gc = gc_content(dna_seq)\n",
        "print(f\"The GC content percentage is: {percentage_gc}%\")"
      ],
      "metadata": {
        "colab": {
          "base_uri": "https://localhost:8080/"
        },
        "id": "LG3tQGzhZLYv",
        "outputId": "7658e06e-4ea6-4ba6-ebc9-eedca7cbfb6e"
      },
      "execution_count": null,
      "outputs": [
        {
          "output_type": "stream",
          "name": "stdout",
          "text": [
            "The GC content percentage is: 37.5%\n"
          ]
        }
      ]
    },
    {
      "cell_type": "markdown",
      "source": [
        "Fungsi Kustom untuk Menghitung Persentase Kandungan GC(Metode 2)"
      ],
      "metadata": {
        "id": "4iaOfmgEZfWT"
      }
    },
    {
      "cell_type": "code",
      "source": [
        "#Another custom func to calculate GC content percentage\n",
        "def gc_content2 (seq) :\n",
        " gc = [B for B in seq.upper() if B in 'GC']\n",
        " result = float(len(gc)) / len(seq) * 100\n",
        " return result\n",
        "\n",
        "percentage_gc2 = gc_content2(dna_seq)\n",
        "print(f\"The GC content percentage using method 2 is: {percentage_gc}%\")"
      ],
      "metadata": {
        "colab": {
          "base_uri": "https://localhost:8080/"
        },
        "id": "nrkvW89RZha1",
        "outputId": "07ea11cd-3ca7-475d-ea60-91cd508ef587"
      },
      "execution_count": null,
      "outputs": [
        {
          "output_type": "stream",
          "name": "stdout",
          "text": [
            "The GC content percentage using method 2 is: 37.5%\n"
          ]
        }
      ]
    },
    {
      "cell_type": "markdown",
      "source": [
        "Fungsi untuk Menghitung Persentase Kandungan AT dalam Sekuens DNA:"
      ],
      "metadata": {
        "id": "_5PrCBiJaQ2C"
      }
    },
    {
      "cell_type": "code",
      "source": [
        "#Func to calculate AT content percentage in a DNA sequence\n",
        "def at_content(seq):\n",
        "  result = float(seq.count('A') + seq.count('T')) / len(seq) * 100\n",
        "  return result\n",
        "\n",
        "#Example usage:\n",
        "dna_seq = \"AGCTATAG\"\n",
        "percentage_at = at_content(dna_seq)\n",
        "print(f\"The AT content of DNA sequences is: {percentage_at}%\")"
      ],
      "metadata": {
        "colab": {
          "base_uri": "https://localhost:8080/"
        },
        "id": "4gisay7yabM5",
        "outputId": "aff9d728-ad2d-49f4-cda0-0d1dcb9fb872"
      },
      "execution_count": null,
      "outputs": [
        {
          "output_type": "stream",
          "name": "stdout",
          "text": [
            "The AT content of DNA sequences is: 62.5%\n"
          ]
        }
      ]
    },
    {
      "cell_type": "markdown",
      "source": [
        "Menghitung Titik Leleh DNA Menggunakan Bio.SeqUtils:"
      ],
      "metadata": {
        "id": "ClHNzX7KYNQr"
      }
    },
    {
      "cell_type": "code",
      "source": [
        "from Bio.SeqUtils import MeltingTemp as mt\n",
        "from Bio.SeqUtils import GC123\n",
        "\n",
        "# contoh1 dan contoh2 adalah dua urutan DNA yang akan kita bandingkan\n",
        "contoh1 = 'ATGCATGGTGGCGGA'\n",
        "contoh2 = 'ATTTGTGCTCTTGGAA'\n",
        "\n",
        "# Menghitung kandungan GC dard kedua contoh\n",
        "gc_contoh1 = GC123(contoh1)\n",
        "gc_contoh2 = GC123(contoh2)\n",
        "\n",
        "# Menghitung titik leleh menggunakan 'Wallace Rule Of Thumb' utuk kedua contoh:\n",
        "tm_wallace_contoh1 = mt.Tm_Wallace(contoh1)\n",
        "tm_wallace_contoh2 = mt.Tm_Wallace(contoh2)\n",
        "\n",
        "# Menghitung titik leleh berdasarkan kandungan GC untuk kedua contoh :\n",
        "tm_gc_contoh1 = mt.Tm_GC(contoh1)\n",
        "tm_gc_contoh2 = mt.Tm_GC(contoh2)\n",
        "\n",
        "print (tm_wallace_contoh1)\n",
        "print (tm_wallace_contoh2)\n",
        "print (tm_gc_contoh1)\n",
        "print (tm_gc_contoh2)"
      ],
      "metadata": {
        "colab": {
          "base_uri": "https://localhost:8080/"
        },
        "id": "n2TzCDOsXT3r",
        "outputId": "25adf230-42b1-4725-9a4e-06d2a7de08e1"
      },
      "execution_count": null,
      "outputs": [
        {
          "output_type": "stream",
          "name": "stdout",
          "text": [
            "48.0\n",
            "44.0\n",
            "44.5029020719779\n",
            "37.777902071977906\n"
          ]
        }
      ]
    },
    {
      "cell_type": "markdown",
      "source": [
        "Menghitung Berat Molekul DNA Menggunakan Bio.SeqUtils:"
      ],
      "metadata": {
        "id": "NF4sTMMWXZLx"
      }
    },
    {
      "cell_type": "code",
      "source": [
        "from Bio.Seq import Seq\n",
        "from Bio.SeqUtils import molecular_weight\n",
        "\n",
        "# Define the DNA sequence as a Seq object\n",
        "dna = Seq('ATGATCTCGTAA')\n",
        "\n",
        "# Calculate the molecular weight of the DNA sequence\n",
        "weight = molecular_weight(dna)\n",
        "\n",
        "# Print out the molecular weight\n",
        "print(weight)"
      ],
      "metadata": {
        "colab": {
          "base_uri": "https://localhost:8080/"
        },
        "id": "t4SZqbp0XUwN",
        "outputId": "d181e41d-f38d-457e-b379-73dd3863bf4d"
      },
      "execution_count": null,
      "outputs": [
        {
          "output_type": "stream",
          "name": "stdout",
          "text": [
            "3724.3894999999998\n"
          ]
        }
      ]
    }
  ]
}