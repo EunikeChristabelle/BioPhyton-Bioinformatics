{
  "cells": [
    {
      "cell_type": "markdown",
      "metadata": {
        "id": "view-in-github",
        "colab_type": "text"
      },
      "source": [
        "<a href=\"https://colab.research.google.com/github/EunikeChristabelle/BioPhyton-Bioinformatics/blob/main/Asg1_CompBio.ipynb\" target=\"_parent\"><img src=\"https://colab.research.google.com/assets/colab-badge.svg\" alt=\"Open In Colab\"/></a>"
      ]
    },
    {
      "cell_type": "markdown",
      "metadata": {
        "id": "4pRnUNy2JU7X"
      },
      "source": [
        "# ASG 1 Sequence Analysis & Plot"
      ]
    },
    {
      "cell_type": "code",
      "execution_count": null,
      "metadata": {
        "colab": {
          "base_uri": "https://localhost:8080/"
        },
        "id": "4jVVMHb-FQdT",
        "outputId": "ecb20246-0adc-48d7-91ee-5edfa28af342"
      },
      "outputs": [
        {
          "output_type": "stream",
          "name": "stdout",
          "text": [
            "Collecting biopython\n",
            "  Downloading biopython-1.83-cp310-cp310-manylinux_2_17_x86_64.manylinux2014_x86_64.whl (3.1 MB)\n",
            "\u001b[2K     \u001b[90m━━━━━━━━━━━━━━━━━━━━━━━━━━━━━━━━━━━━━━━━\u001b[0m \u001b[32m3.1/3.1 MB\u001b[0m \u001b[31m7.9 MB/s\u001b[0m eta \u001b[36m0:00:00\u001b[0m\n",
            "\u001b[?25hRequirement already satisfied: numpy in /usr/local/lib/python3.10/dist-packages (from biopython) (1.25.2)\n",
            "Installing collected packages: biopython\n",
            "Successfully installed biopython-1.83\n"
          ]
        }
      ],
      "source": [
        "#Installation (try !pip for native anaconda distribution or pip for google colab)\n",
        "!pip install biopython"
      ]
    },
    {
      "cell_type": "code",
      "execution_count": null,
      "metadata": {
        "id": "Muo4uHS2E4Xy"
      },
      "outputs": [],
      "source": [
        "from google.colab import drive\n",
        "drive.mount('/content/drive')"
      ]
    },
    {
      "cell_type": "code",
      "execution_count": null,
      "metadata": {
        "id": "SroQwwZVFLEG"
      },
      "outputs": [],
      "source": [
        "# Load Bioinformatic Pkgs\n",
        "import Bio"
      ]
    },
    {
      "cell_type": "code",
      "execution_count": null,
      "metadata": {
        "id": "TRWuxQS3FN2j"
      },
      "outputs": [],
      "source": [
        "# Methods and Attributes\n",
        "dir(Bio)"
      ]
    },
    {
      "cell_type": "code",
      "execution_count": null,
      "metadata": {
        "id": "JzcGMZjkFaOk"
      },
      "outputs": [],
      "source": [
        "from Bio.Seq import Seq"
      ]
    },
    {
      "cell_type": "code",
      "execution_count": null,
      "metadata": {
        "id": "kLPlX4glFbRh"
      },
      "outputs": [],
      "source": [
        "# Methods of Seq\n",
        "dir(Seq);"
      ]
    },
    {
      "cell_type": "code",
      "execution_count": null,
      "metadata": {
        "id": "NSqNxHmUFeAt"
      },
      "outputs": [],
      "source": [
        "# Create A simple sequences\n",
        "seq1 = Seq('ATGCATGGTGCGCGA')\n",
        "seq1"
      ]
    },
    {
      "cell_type": "code",
      "execution_count": null,
      "metadata": {
        "id": "70GcMVe5Ff2N"
      },
      "outputs": [],
      "source": [
        "# Create an RNA\n",
        "rna1 = Seq('AUGCACGGUGCGCGA')\n",
        "rna1"
      ]
    },
    {
      "cell_type": "markdown",
      "metadata": {
        "id": "PxFO5b1bNkAP"
      },
      "source": [
        "## Count, Find, Search"
      ]
    },
    {
      "cell_type": "code",
      "execution_count": null,
      "metadata": {
        "id": "SW-GnL-xFhdf"
      },
      "outputs": [],
      "source": [
        "# Creating a Protein seq\n",
        "protein_a = Seq('MIT')\n",
        "protein_a"
      ]
    },
    {
      "cell_type": "code",
      "execution_count": null,
      "metadata": {
        "id": "j3DGm5MnFjc9"
      },
      "outputs": [],
      "source": [
        "# Length of our seq\n",
        "len(seq1)"
      ]
    },
    {
      "cell_type": "code",
      "execution_count": null,
      "metadata": {
        "id": "npihQkjAFlKK"
      },
      "outputs": [],
      "source": [
        "len('ATGCATGGTGCGCGA')"
      ]
    },
    {
      "cell_type": "code",
      "execution_count": null,
      "metadata": {
        "id": "d1GOOBDdFm3f"
      },
      "outputs": [],
      "source": [
        "# Slicing\n",
        "seq1[0:3]"
      ]
    },
    {
      "cell_type": "code",
      "execution_count": null,
      "metadata": {
        "id": "JXQsd8yAFohV"
      },
      "outputs": [],
      "source": [
        "# Reverse\n",
        "seq1[::-1]"
      ]
    },
    {
      "cell_type": "code",
      "execution_count": null,
      "metadata": {
        "id": "glKW2cvPFp7L"
      },
      "outputs": [],
      "source": [
        "seq2 = Seq('ATTTGTGCTCCTGGA')"
      ]
    },
    {
      "cell_type": "code",
      "execution_count": null,
      "metadata": {
        "id": "zsIVvu-dFrvr"
      },
      "outputs": [],
      "source": [
        "# Join Seq\n",
        "seq1[0:6] + seq2"
      ]
    },
    {
      "cell_type": "code",
      "execution_count": null,
      "metadata": {
        "id": "pXjI98ydF2LE"
      },
      "outputs": [],
      "source": [
        "# Find the number of Nucleotides/Base within our seq\n",
        "# Count\n",
        "seq1.count('G')"
      ]
    },
    {
      "cell_type": "code",
      "execution_count": null,
      "metadata": {
        "id": "r3r5xhlkF34I"
      },
      "outputs": [],
      "source": [
        "seq1.count('A')"
      ]
    },
    {
      "cell_type": "code",
      "execution_count": null,
      "metadata": {
        "id": "WVzgGv9DF39j"
      },
      "outputs": [],
      "source": [
        "# Count the number of codon (3B) within a seq\n",
        "seq1.count('ATG')"
      ]
    },
    {
      "cell_type": "code",
      "execution_count": null,
      "metadata": {
        "id": "lBnqVnKwF4Dg"
      },
      "outputs": [],
      "source": [
        "# Find the position/location of a nucleotide\n",
        "seq1.find('G')"
      ]
    },
    {
      "cell_type": "code",
      "execution_count": null,
      "metadata": {
        "id": "UclAd5PhF4Gt"
      },
      "outputs": [],
      "source": [
        "seq1"
      ]
    },
    {
      "cell_type": "code",
      "execution_count": null,
      "metadata": {
        "id": "uKCRc6bBF4KG"
      },
      "outputs": [],
      "source": [
        "# Find the position/location of a nucleotide from the right\n",
        "seq1.rfind('G')"
      ]
    },
    {
      "cell_type": "code",
      "execution_count": null,
      "metadata": {
        "id": "hVUZVbWRGAY6"
      },
      "outputs": [],
      "source": [
        "# Find the location/index using index\n",
        "seq1.index('G')"
      ]
    },
    {
      "cell_type": "code",
      "execution_count": null,
      "metadata": {
        "id": "4M1Db0ZkGCB7"
      },
      "outputs": [],
      "source": [
        "# Find the location/index using index\n",
        "seq1.rindex('G')"
      ]
    },
    {
      "cell_type": "code",
      "execution_count": null,
      "metadata": {
        "id": "PQFm-q0VGEPa"
      },
      "outputs": [],
      "source": [
        "from Bio.SeqUtils import nt_search"
      ]
    },
    {
      "cell_type": "code",
      "execution_count": null,
      "metadata": {
        "id": "uvDylmENGFyo"
      },
      "outputs": [],
      "source": [
        "main_seq = Seq('ACTATT') #????\n",
        "subseq = Seq('ATT')"
      ]
    },
    {
      "cell_type": "code",
      "execution_count": null,
      "metadata": {
        "id": "vZlwphLmGHUG"
      },
      "outputs": [],
      "source": [
        "nt_search(str(main_seq),str(subseq))"
      ]
    },
    {
      "cell_type": "markdown",
      "metadata": {
        "id": "ZbrcoX2nNuC_"
      },
      "source": [
        "## Plot"
      ]
    },
    {
      "cell_type": "code",
      "execution_count": null,
      "metadata": {
        "id": "5gbI4rzfGJET"
      },
      "outputs": [],
      "source": [
        "pip install matplotlib"
      ]
    },
    {
      "cell_type": "code",
      "execution_count": null,
      "metadata": {
        "id": "vPYZAuAOGLCo"
      },
      "outputs": [],
      "source": [
        "import matplotlib.pyplot as plt"
      ]
    },
    {
      "cell_type": "code",
      "execution_count": null,
      "metadata": {
        "id": "MB9ii1_MGLZg"
      },
      "outputs": [],
      "source": [
        "from collections import Counter"
      ]
    },
    {
      "cell_type": "code",
      "execution_count": null,
      "metadata": {
        "id": "avuyVDBEGLcn"
      },
      "outputs": [],
      "source": [
        "dna_seq = Seq('ATGCATGGTGCGCGA')\n",
        "dna_seq2 = Seq('ATTTGTGCTCCTGGA')"
      ]
    },
    {
      "cell_type": "code",
      "execution_count": null,
      "metadata": {
        "id": "4hMQaOSiGLgB"
      },
      "outputs": [],
      "source": [
        "dna_freq = Counter(dna_seq)\n",
        "dna_freq"
      ]
    },
    {
      "cell_type": "code",
      "execution_count": null,
      "metadata": {
        "id": "FL7Y6Jx8MGIe"
      },
      "outputs": [],
      "source": [
        "dna_freq2 = Counter(dna_seq2)\n",
        "dna_freq2"
      ]
    },
    {
      "cell_type": "code",
      "execution_count": null,
      "metadata": {
        "id": "W3aL5yPUGSQT"
      },
      "outputs": [],
      "source": [
        "#seq1\n",
        "plt.title(\"Sequence 1\")\n",
        "plt.bar(dna_freq.keys(),dna_freq.values())"
      ]
    },
    {
      "cell_type": "code",
      "execution_count": null,
      "metadata": {
        "id": "W6PjORtIMQ-y"
      },
      "outputs": [],
      "source": [
        "#seq2\n",
        "plt.title(\"Sequence 2\")\n",
        "plt.bar(dna_freq2.keys(),dna_freq2.values())"
      ]
    }
  ],
  "metadata": {
    "colab": {
      "collapsed_sections": [
        "PxFO5b1bNkAP"
      ],
      "provenance": [],
      "authorship_tag": "ABX9TyMMusP0p0KKyzSlhL+IvDaB",
      "include_colab_link": true
    },
    "kernelspec": {
      "display_name": "Python 3",
      "name": "python3"
    },
    "language_info": {
      "name": "python"
    }
  },
  "nbformat": 4,
  "nbformat_minor": 0
}