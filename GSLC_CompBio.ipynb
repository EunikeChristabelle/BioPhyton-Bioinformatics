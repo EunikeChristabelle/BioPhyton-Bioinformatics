{
  "nbformat": 4,
  "nbformat_minor": 0,
  "metadata": {
    "colab": {
      "provenance": [],
      "authorship_tag": "ABX9TyP80z5FfHBur9EWrcEJWIH+",
      "include_colab_link": true
    },
    "kernelspec": {
      "name": "python3",
      "display_name": "Python 3"
    },
    "language_info": {
      "name": "python"
    }
  },
  "cells": [
    {
      "cell_type": "markdown",
      "metadata": {
        "id": "view-in-github",
        "colab_type": "text"
      },
      "source": [
        "<a href=\"https://colab.research.google.com/github/EunikeChristabelle/BioPhyton-Bioinformatics/blob/main/GSLC_CompBio.ipynb\" target=\"_parent\"><img src=\"https://colab.research.google.com/assets/colab-badge.svg\" alt=\"Open In Colab\"/></a>"
      ]
    },
    {
      "cell_type": "code",
      "execution_count": null,
      "metadata": {
        "colab": {
          "base_uri": "https://localhost:8080/"
        },
        "id": "tQRzMM2SpeSR",
        "outputId": "06639749-e848-41cd-97c8-8e4b0eeac08c"
      },
      "outputs": [
        {
          "output_type": "stream",
          "name": "stdout",
          "text": [
            "Requirement already satisfied: biopython in /usr/local/lib/python3.10/dist-packages (1.83)\n",
            "Requirement already satisfied: numpy in /usr/local/lib/python3.10/dist-packages (from biopython) (1.25.2)\n"
          ]
        }
      ],
      "source": [
        "!pip install biopython"
      ]
    },
    {
      "cell_type": "code",
      "source": [
        "import Bio"
      ],
      "metadata": {
        "id": "3ahxfkW0pl5H"
      },
      "execution_count": null,
      "outputs": []
    },
    {
      "cell_type": "markdown",
      "source": [
        "# Molecular Weight\n",
        "\n",
        "> Carcharodon carcharias\n",
        "\n"
      ],
      "metadata": {
        "id": "19nS-fuDqR3z"
      }
    },
    {
      "cell_type": "code",
      "source": [
        "from Bio.Seq import Seq\n",
        "from Bio.SeqUtils import molecular_weight"
      ],
      "metadata": {
        "id": "-11bbg-qqKNB"
      },
      "execution_count": null,
      "outputs": []
    },
    {
      "cell_type": "code",
      "source": [
        "dna = Seq ('ATGAGCTTCTATCCGGTCAACCCTCTCTTCTCCAAATGCAAACCGAACGAGTCGCTGGAGCCGAGGGACTCCTACTCGGACTGTCGCTTCCCGTCCCGGGGCCACTCGCTGGTGTACCCGCCGGGGGCCGGCGCGGCCGGGTTCCAGCCCCTCTCCGCCCACCTGCAGGACATCTTCCACCACCACCACCAGCACCACCACCACGGATCTCCAGCCTGCCGGCCTCCGGCTACCAGCAGGGCGCCTGCGGTCTCCCTTGCCACGGGGAGCCCAAGTTCTACGGCTACGACCTCCTGCCCCGCCAGCCCCACTACGGCGGCGTCCAGCCAGAAGCGGCCATGCTCCCGTACGCCGACTGCAAAGCCCCGGCGGCCGGCGCTGACGGCCCGGGGAATTTAACGCAACAGTCGCCGAACAACCTCGTCTTCCCGTGGATGAGGCCGCACGCCCCAGGCAGGCGCAGTGGCCGGCAGACCTACAGCCGCTTCAGACCCTGGAGCTGGAGAAGGAGTTCCTCTTTAACCCTTACCTGACGCGGAAGCGGCGGATCGAGGTGTCGCACGCGCTGGGCCTGACCGAGCGGCAGGTCAAGATCTGGTTCCAGAACCGACGGATGAAGTGGAAGAAGGAGAACAACCGGGACAAGTTCCCCAGCGCCCGCGAGGAGGGCAAGGGGCAAGAGGCGGGGAACGAGGAAGGCGACAAGGGGGAGGATGAGAAGCAGGAGGAAGGGGAGGGAGAAGAGGGCGGAAAGGAATAG')"
      ],
      "metadata": {
        "id": "VBP5acwpqKPm"
      },
      "execution_count": null,
      "outputs": []
    },
    {
      "cell_type": "code",
      "source": [
        "molecular_weight(dna)"
      ],
      "metadata": {
        "colab": {
          "base_uri": "https://localhost:8080/"
        },
        "id": "gmr5mBXeqKSM",
        "outputId": "9e36c689-fdfe-43cd-cf02-5b5320f07613"
      },
      "execution_count": null,
      "outputs": [
        {
          "output_type": "execute_result",
          "data": {
            "text/plain": [
              "234933.15639999948"
            ]
          },
          "metadata": {},
          "execution_count": 24
        }
      ]
    }
  ]
}